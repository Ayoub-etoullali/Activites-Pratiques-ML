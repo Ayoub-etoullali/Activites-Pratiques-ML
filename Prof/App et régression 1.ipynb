{
 "cells": [
  {
   "cell_type": "code",
   "execution_count": 1,
   "metadata": {},
   "outputs": [
    {
     "name": "stderr",
     "output_type": "stream",
     "text": [
      "C:\\Users\\lenovo\\Anaconda3\\lib\\site-packages\\sklearn\\linear_model\\least_angle.py:30: DeprecationWarning: `np.float` is a deprecated alias for the builtin `float`. To silence this warning, use `float` by itself. Doing this will not modify any behavior and is safe. If you specifically wanted the numpy scalar type, use `np.float64` here.\n",
      "Deprecated in NumPy 1.20; for more details and guidance: https://numpy.org/devdocs/release/1.20.0-notes.html#deprecations\n",
      "  method='lar', copy_X=True, eps=np.finfo(np.float).eps,\n",
      "C:\\Users\\lenovo\\Anaconda3\\lib\\site-packages\\sklearn\\linear_model\\least_angle.py:167: DeprecationWarning: `np.float` is a deprecated alias for the builtin `float`. To silence this warning, use `float` by itself. Doing this will not modify any behavior and is safe. If you specifically wanted the numpy scalar type, use `np.float64` here.\n",
      "Deprecated in NumPy 1.20; for more details and guidance: https://numpy.org/devdocs/release/1.20.0-notes.html#deprecations\n",
      "  method='lar', copy_X=True, eps=np.finfo(np.float).eps,\n",
      "C:\\Users\\lenovo\\Anaconda3\\lib\\site-packages\\sklearn\\linear_model\\least_angle.py:284: DeprecationWarning: `np.float` is a deprecated alias for the builtin `float`. To silence this warning, use `float` by itself. Doing this will not modify any behavior and is safe. If you specifically wanted the numpy scalar type, use `np.float64` here.\n",
      "Deprecated in NumPy 1.20; for more details and guidance: https://numpy.org/devdocs/release/1.20.0-notes.html#deprecations\n",
      "  eps=np.finfo(np.float).eps, copy_Gram=True, verbose=0,\n",
      "C:\\Users\\lenovo\\Anaconda3\\lib\\site-packages\\sklearn\\linear_model\\least_angle.py:862: DeprecationWarning: `np.float` is a deprecated alias for the builtin `float`. To silence this warning, use `float` by itself. Doing this will not modify any behavior and is safe. If you specifically wanted the numpy scalar type, use `np.float64` here.\n",
      "Deprecated in NumPy 1.20; for more details and guidance: https://numpy.org/devdocs/release/1.20.0-notes.html#deprecations\n",
      "  eps=np.finfo(np.float).eps, copy_X=True, fit_path=True,\n",
      "C:\\Users\\lenovo\\Anaconda3\\lib\\site-packages\\sklearn\\linear_model\\least_angle.py:1101: DeprecationWarning: `np.float` is a deprecated alias for the builtin `float`. To silence this warning, use `float` by itself. Doing this will not modify any behavior and is safe. If you specifically wanted the numpy scalar type, use `np.float64` here.\n",
      "Deprecated in NumPy 1.20; for more details and guidance: https://numpy.org/devdocs/release/1.20.0-notes.html#deprecations\n",
      "  eps=np.finfo(np.float).eps, copy_X=True, fit_path=True,\n",
      "C:\\Users\\lenovo\\Anaconda3\\lib\\site-packages\\sklearn\\linear_model\\least_angle.py:1127: DeprecationWarning: `np.float` is a deprecated alias for the builtin `float`. To silence this warning, use `float` by itself. Doing this will not modify any behavior and is safe. If you specifically wanted the numpy scalar type, use `np.float64` here.\n",
      "Deprecated in NumPy 1.20; for more details and guidance: https://numpy.org/devdocs/release/1.20.0-notes.html#deprecations\n",
      "  eps=np.finfo(np.float).eps, positive=False):\n",
      "C:\\Users\\lenovo\\Anaconda3\\lib\\site-packages\\sklearn\\linear_model\\least_angle.py:1362: DeprecationWarning: `np.float` is a deprecated alias for the builtin `float`. To silence this warning, use `float` by itself. Doing this will not modify any behavior and is safe. If you specifically wanted the numpy scalar type, use `np.float64` here.\n",
      "Deprecated in NumPy 1.20; for more details and guidance: https://numpy.org/devdocs/release/1.20.0-notes.html#deprecations\n",
      "  max_n_alphas=1000, n_jobs=None, eps=np.finfo(np.float).eps,\n",
      "C:\\Users\\lenovo\\Anaconda3\\lib\\site-packages\\sklearn\\linear_model\\least_angle.py:1602: DeprecationWarning: `np.float` is a deprecated alias for the builtin `float`. To silence this warning, use `float` by itself. Doing this will not modify any behavior and is safe. If you specifically wanted the numpy scalar type, use `np.float64` here.\n",
      "Deprecated in NumPy 1.20; for more details and guidance: https://numpy.org/devdocs/release/1.20.0-notes.html#deprecations\n",
      "  max_n_alphas=1000, n_jobs=None, eps=np.finfo(np.float).eps,\n",
      "C:\\Users\\lenovo\\Anaconda3\\lib\\site-packages\\sklearn\\linear_model\\least_angle.py:1738: DeprecationWarning: `np.float` is a deprecated alias for the builtin `float`. To silence this warning, use `float` by itself. Doing this will not modify any behavior and is safe. If you specifically wanted the numpy scalar type, use `np.float64` here.\n",
      "Deprecated in NumPy 1.20; for more details and guidance: https://numpy.org/devdocs/release/1.20.0-notes.html#deprecations\n",
      "  eps=np.finfo(np.float).eps, copy_X=True, positive=False):\n"
     ]
    }
   ],
   "source": [
    "from sklearn.linear_model import LinearRegression"
   ]
  },
  {
   "cell_type": "code",
   "execution_count": 21,
   "metadata": {},
   "outputs": [
    {
     "data": {
      "text/plain": [
       "(11, 3)"
      ]
     },
     "execution_count": 21,
     "metadata": {},
     "output_type": "execute_result"
    }
   ],
   "source": [
    "import numpy as np\n",
    "#Features (Xi)\n",
    "X=np.array([[230.1,37.8,69.2],[44.5,39.3,45.1],[17.2,45.9,69.3],\n",
    "[151.5,41.3,58.5],[180.8,10.8,58.4],[8.7,48.9,75],[57.5,32.8,23.5],\n",
    "[120.2,19.6,11.6],[8.6,2.1,1],[199.8,2.6,21.2],[66.1,5.8,24.2]])\n",
    "#Target (real_y)\n",
    "y=[22.1,10.4,9.3,18.5,12.9,7.2,11.8,13.2,4.8,10.6,100]\n",
    "X.shape"
   ]
  },
  {
   "cell_type": "code",
   "execution_count": 22,
   "metadata": {},
   "outputs": [],
   "source": [
    "### Définir le modèle\n",
    "from sklearn.linear_model import LinearRegression\n",
    "h=LinearRegression()"
   ]
  },
  {
   "cell_type": "code",
   "execution_count": 23,
   "metadata": {},
   "outputs": [
    {
     "data": {
      "text/plain": [
       "LinearRegression()"
      ]
     },
     "execution_count": 23,
     "metadata": {},
     "output_type": "execute_result"
    }
   ],
   "source": [
    "#learning (W0,W1,W2,W3)\n",
    "h.fit(X,y) "
   ]
  },
  {
   "cell_type": "code",
   "execution_count": 24,
   "metadata": {},
   "outputs": [
    {
     "name": "stdout",
     "output_type": "stream",
     "text": [
      "34.7633502307247\n",
      "[-0.05301488 -0.86175515  0.31326444]\n"
     ]
    }
   ],
   "source": [
    "print(h.intercept_)\n",
    "print(h.coef_)"
   ]
  },
  {
   "cell_type": "code",
   "execution_count": 25,
   "metadata": {},
   "outputs": [],
   "source": [
    "sales_predicted=h.predict([[66.1,5.8,24.2],[10,24,3]])\n",
    "\n",
    "                           #,[145,80,50]])"
   ]
  },
  {
   "cell_type": "code",
   "execution_count": 26,
   "metadata": {},
   "outputs": [
    {
     "data": {
      "text/plain": [
       "array([33.84188595, 14.49087118])"
      ]
     },
     "execution_count": 26,
     "metadata": {},
     "output_type": "execute_result"
    }
   ],
   "source": [
    "sales_predicted"
   ]
  },
  {
   "cell_type": "code",
   "execution_count": 27,
   "metadata": {},
   "outputs": [
    {
     "data": {
      "text/plain": [
       "(11,)"
      ]
     },
     "execution_count": 27,
     "metadata": {},
     "output_type": "execute_result"
    }
   ],
   "source": [
    "#Test the model : Erreur d'apprentissage\n",
    "y_predicted=h.predict(X)\n",
    "y_predicted.shape"
   ]
  },
  {
   "cell_type": "code",
   "execution_count": 28,
   "metadata": {},
   "outputs": [
    {
     "data": {
      "text/plain": [
       "568.4996352721365"
      ]
     },
     "execution_count": 28,
     "metadata": {},
     "output_type": "execute_result"
    }
   ],
   "source": [
    "#Evaluation (CostFunction)\n",
    "from sklearn import metrics\n",
    "metrics.mean_squared_error(y_predicted,y)"
   ]
  },
  {
   "cell_type": "code",
   "execution_count": 10,
   "metadata": {},
   "outputs": [],
   "source": [
    "#regression linéaire simple\n",
    "#Features (Xi)\n",
    "X=[ [i[0]] for i in X ]\n",
    "#Target (real_y)\n",
    "sales_real=[22.1,10.4,9.3,18.5,12.9,7.2,11.8,13.2,4.8,10.6]"
   ]
  },
  {
   "cell_type": "code",
   "execution_count": 11,
   "metadata": {},
   "outputs": [
    {
     "data": {
      "text/plain": [
       "[<matplotlib.lines.Line2D at 0x15c6863eb48>]"
      ]
     },
     "execution_count": 11,
     "metadata": {},
     "output_type": "execute_result"
    }
   ],
   "source": [
    "#plot Data\n",
    "import matplotlib.pyplot as plt\n",
    "plt.plot(X,y,'ro')"
   ]
  },
  {
   "cell_type": "code",
   "execution_count": 12,
   "metadata": {},
   "outputs": [
    {
     "data": {
      "text/plain": [
       "LinearRegression(copy_X=True, fit_intercept=True, n_jobs=None, normalize=False)"
      ]
     },
     "execution_count": 12,
     "metadata": {},
     "output_type": "execute_result"
    }
   ],
   "source": [
    "#Model\n",
    "from sklearn.linear_model import LinearRegression\n",
    "#create the model\n",
    "h=LinearRegression()\n",
    "#learning (W0,W1)\n",
    "h.fit(X,y)"
   ]
  },
  {
   "cell_type": "code",
   "execution_count": 13,
   "metadata": {},
   "outputs": [
    {
     "name": "stdout",
     "output_type": "stream",
     "text": [
      "7.334018424710767\n",
      "[0.04657946]\n"
     ]
    }
   ],
   "source": [
    "print(h.intercept_)\n",
    "print(h.coef_)"
   ]
  },
  {
   "cell_type": "code",
   "execution_count": 14,
   "metadata": {},
   "outputs": [
    {
     "data": {
      "text/plain": [
       "[<matplotlib.lines.Line2D at 0x15c687f1308>]"
      ]
     },
     "execution_count": 14,
     "metadata": {},
     "output_type": "execute_result"
    },
    {
     "data": {
      "image/png": "[encoded data removed]",
      "text/plain": [
       "<Figure size 432x288 with 1 Axes>"
      ]
     },
     "metadata": {
      "needs_background": "light"
     },
     "output_type": "display_data"
    }
   ],
   "source": [
    "#plot the model\n",
    "plt.plot([[0],[230.1]],h.predict([[0],[230.1]]))\n",
    "plt.plot(X,y,'ro')"
   ]
  },
  {
   "cell_type": "code",
   "execution_count": 15,
   "metadata": {},
   "outputs": [
    {
     "data": {
      "text/plain": [
       "array([11.06037554, 17.58150048])"
      ]
     },
     "execution_count": 15,
     "metadata": {},
     "output_type": "execute_result"
    }
   ],
   "source": [
    "#Prediction\n",
    "sales_predicted=h.predict([[80],[220]])\n",
    "sales_predicted"
   ]
  },
  {
   "cell_type": "code",
   "execution_count": 18,
   "metadata": {},
   "outputs": [],
   "source": [
    "#Test the model\n",
    "y_predicted=h.predict(X)"
   ]
  },
  {
   "cell_type": "code",
   "execution_count": 21,
   "metadata": {},
   "outputs": [
    {
     "data": {
      "text/plain": [
       "9.242832452015842"
      ]
     },
     "execution_count": 21,
     "metadata": {},
     "output_type": "execute_result"
    }
   ],
   "source": [
    "#CostFunction\n",
    "from sklearn import metrics\n",
    "metrics.mean_squared_error(y_predicted,sales_real)"
   ]
  },
  {
   "cell_type": "code",
   "execution_count": 18,
   "metadata": {},
   "outputs": [],
   "source": [
    "import numpy as np\n",
    "X=np.array([1,2,3,4])\n",
    "y_real=np.array([1,2,3,4])\n",
    "def findW(X):\n",
    "    w0=0\n",
    "    w1=0.25\n",
    "    y_predicted=w1*X+w0\n",
    "    print(\"y_predicted:{}\".format(y_predicted))\n"
   ]
  },
  {
   "cell_type": "code",
   "execution_count": 19,
   "metadata": {},
   "outputs": [
    {
     "name": "stdout",
     "output_type": "stream",
     "text": [
      "y_predicted:[0.25 0.5  0.75 1.  ]\n"
     ]
    }
   ],
   "source": [
    "findW(X)"
   ]
  },
  {
   "cell_type": "code",
   "execution_count": 23,
   "metadata": {},
   "outputs": [],
   "source": [
    "X=np.array([1,2,3,4])\n",
    "y_real=np.array([1,2,3,4])\n",
    "def findW(X):\n",
    "    n_iterations=21\n",
    "    w0=0 \n",
    "    w1=0 #initialization\n",
    "    list_w=[]\n",
    "    list_mse=[]\n",
    "    for i in range(n_iterations):\n",
    "        y_predicted=w1*X+w0\n",
    "        mean_squared_error=(1/X.size)*np.sum(np.square(y_predicted-y_real))\n",
    "        print(\"iteration: {}, y_predicted:{}, mse: {}\".format(i,y_predicted,mean_squared_error))\n",
    "        list_w.append(w1)\n",
    "        list_mse.append(mean_squared_error)\n",
    "        w1=w1+0.1\n",
    "    return list_w,list_mse\n"
   ]
  },
  {
   "cell_type": "code",
   "execution_count": 24,
   "metadata": {},
   "outputs": [
    {
     "name": "stdout",
     "output_type": "stream",
     "text": [
      "iteration: 0, y_predicted:[0 0 0 0], mse: 7.5\n",
      "iteration: 1, y_predicted:[0.1 0.2 0.3 0.4], mse: 6.075000000000001\n",
      "iteration: 2, y_predicted:[0.2 0.4 0.6 0.8], mse: 4.800000000000001\n",
      "iteration: 3, y_predicted:[0.3 0.6 0.9 1.2], mse: 3.674999999999999\n",
      "iteration: 4, y_predicted:[0.4 0.8 1.2 1.6], mse: 2.6999999999999997\n",
      "iteration: 5, y_predicted:[0.5 1.  1.5 2. ], mse: 1.875\n",
      "iteration: 6, y_predicted:[0.6 1.2 1.8 2.4], mse: 1.2000000000000002\n",
      "iteration: 7, y_predicted:[0.7 1.4 2.1 2.8], mse: 0.6750000000000003\n",
      "iteration: 8, y_predicted:[0.8 1.6 2.4 3.2], mse: 0.30000000000000016\n",
      "iteration: 9, y_predicted:[0.9 1.8 2.7 3.6], mse: 0.07500000000000012\n",
      "iteration: 10, y_predicted:[1. 2. 3. 4.], mse: 1.1401505270772436e-31\n",
      "iteration: 11, y_predicted:[1.1 2.2 3.3 4.4], mse: 0.07499999999999984\n",
      "iteration: 12, y_predicted:[1.2 2.4 3.6 4.8], mse: 0.2999999999999998\n",
      "iteration: 13, y_predicted:[1.3 2.6 3.9 5.2], mse: 0.6750000000000003\n",
      "iteration: 14, y_predicted:[1.4 2.8 4.2 5.6], mse: 1.2000000000000006\n",
      "iteration: 15, y_predicted:[1.5 3.  4.5 6. ], mse: 1.8750000000000018\n",
      "iteration: 16, y_predicted:[1.6 3.2 4.8 6.4], mse: 2.700000000000003\n",
      "iteration: 17, y_predicted:[1.7 3.4 5.1 6.8], mse: 3.6750000000000043\n",
      "iteration: 18, y_predicted:[1.8 3.6 5.4 7.2], mse: 4.800000000000006\n",
      "iteration: 19, y_predicted:[1.9 3.8 5.7 7.6], mse: 6.075000000000008\n",
      "iteration: 20, y_predicted:[2. 4. 6. 8.], mse: 7.500000000000007\n"
     ]
    },
    {
     "data": {
      "text/plain": [
       "[<matplotlib.lines.Line2D at 0x15c6992cec8>]"
      ]
     },
     "execution_count": 24,
     "metadata": {},
     "output_type": "execute_result"
    },
    {
     "data": {
      "image/png": "[encoded data removed]",
      "text/plain": [
       "<Figure size 432x288 with 1 Axes>"
      ]
     },
     "metadata": {
      "needs_background": "light"
     },
     "output_type": "display_data"
    }
   ],
   "source": [
    "import matplotlib.pyplot as plt\n",
    "mse_list,w1_list=findW(X)\n",
    "plt.plot(mse_list,w1_list)\n",
    "plt.plot(mse_list,w1_list,\"ro\")\n"
   ]
  },
  {
   "cell_type": "code",
   "execution_count": 37,
   "metadata": {},
   "outputs": [],
   "source": [
    "def findW(X):\n",
    "    n_iterations=21\n",
    "    w0=0 \n",
    "    w1=0 #initialization\n",
    "    learning_rate=0.001\n",
    "    list_w=[]\n",
    "    list_mse=[]\n",
    "    for i in range(n_iterations):\n",
    "        y_predict=w1*X+w0\n",
    "        mean_squared_error=(1/X.size)*np.sum(np.square(y_predict-y_real))\n",
    "        print(\"iteration: {}, y_predicted:{}, mse: {}\".format(i,y_predict,mean_squared_error))\n",
    "        list_w.append(w1)\n",
    "        list_mse.append(mean_squared_error)\n",
    "        dw1=-(2/4)*sum(X*(y_real-y_predict))\n",
    "        dw0=-(2/4)*sum(y_real-y_predict)\n",
    "        w1=w1-learning_rate*dw1\n",
    "        w0=w0-learning_rate*dw0\n",
    "    return list_w,list_mse\n"
   ]
  },
  {
   "cell_type": "code",
   "execution_count": 38,
   "metadata": {},
   "outputs": [
    {
     "name": "stdout",
     "output_type": "stream",
     "text": [
      "iteration: 0, y_predicted:[0 0 0 0], mse: 7.5\n",
      "iteration: 1, y_predicted:[0.02  0.035 0.05  0.065], mse: 7.2520875\n",
      "iteration: 2, y_predicted:[0.039665 0.069415 0.099165 0.128915], mse: 7.012386132225\n",
      "iteration: 3, y_predicted:[0.0590006  0.10325477 0.14750895 0.19176312], mse: 6.780623925196313\n",
      "iteration: 4, y_predicted:[0.07801229 0.13652892 0.19504555 0.25356218], mse: 6.556537915758529\n",
      "iteration: 5, y_predicted:[0.09670548 0.16924689 0.24178829 0.31432969], mse: 6.339873850703045\n",
      "iteration: 6, y_predicted:[0.11508551 0.20141797 0.28775043 0.37408289], mse: 6.130385898274514\n",
      "iteration: 7, y_predicted:[0.13315759 0.2330513  0.33294501 0.43283871], mse: 5.927836369232868\n",
      "iteration: 8, y_predicted:[0.15092687 0.26415585 0.37738483 0.49061382], mse: 5.7319954471544134\n",
      "iteration: 9, y_predicted:[0.1683984  0.29474046 0.42108252 0.54742458], mse: 5.542640927665969\n",
      "iteration: 10, y_predicted:[0.18557717 0.32481381 0.46405046 0.60328711], mse: 5.359557966316178\n",
      "iteration: 11, y_predicted:[0.20246805 0.35438444 0.50630084 0.65821723], mse: 5.182538834797901\n",
      "iteration: 12, y_predicted:[0.21907586 0.38346075 0.54784564 0.71223053], mse: 5.01138268524509\n",
      "iteration: 13, y_predicted:[0.23540532 0.41205099 0.58869665 0.76534231], mse: 4.845895322336693\n",
      "iteration: 14, y_predicted:[0.25146109 0.44016327 0.62886545 0.81756763], mse: 4.685888982948997\n",
      "iteration: 15, y_predicted:[0.26724774 0.46780559 0.66836344 0.86892129], mse: 4.531182123106404\n",
      "iteration: 16, y_predicted:[0.28276975 0.49498579 0.70720182 0.91941786], mse: 4.381599211988885\n",
      "iteration: 17, y_predicted:[0.29803155 0.52171158 0.74539161 0.96907163], mse: 4.236970532762378\n",
      "iteration: 18, y_predicted:[0.31303749 0.54799056 0.78294363 1.0178967 ], mse: 4.097131990006153\n",
      "iteration: 19, y_predicted:[0.32779184 0.57383019 0.81986854 1.06590689], mse: 3.961924923518623\n",
      "iteration: 20, y_predicted:[0.3422988  0.59923781 0.85617681 1.11311582], mse: 3.8311959282903283\n"
     ]
    }
   ],
   "source": [
    "X=np.array([1,2,3,4])\n",
    "y_real=np.array([1,2,3,4])\n",
    "list_w,liste_mse=findW(X)"
   ]
  },
  {
   "cell_type": "code",
   "execution_count": null,
   "metadata": {},
   "outputs": [],
   "source": []
  }
 ],
 "metadata": {
  "kernelspec": {
   "display_name": "Python 3 (ipykernel)",
   "language": "python",
   "name": "python3"
  },
  "language_info": {
   "codemirror_mode": {
    "name": "ipython",
    "version": 3
   },
   "file_extension": ".py",
   "mimetype": "text/x-python",
   "name": "python",
   "nbconvert_exporter": "python",
   "pygments_lexer": "ipython3",
   "version": "3.9.13"
  }
 },
 "nbformat": 4,
 "nbformat_minor": 2
}
