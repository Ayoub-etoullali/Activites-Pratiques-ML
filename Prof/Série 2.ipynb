{
 "cells": [
  {
   "cell_type": "markdown",
   "id": "2f26f560",
   "metadata": {},
   "source": [
    "# TP"
   ]
  },
  {
   "cell_type": "markdown",
   "id": "9d844238",
   "metadata": {},
   "source": [
    "## Pour déterminer la droite de régression, on peut utiliser la méthode des moindres carrés :"
   ]
  },
  {
   "cell_type": "markdown",
   "id": "722a5d39",
   "metadata": {},
   "source": [
    "La méthode des moindres carrés consiste à déterminer la droite dite « de régression de y en x » qui rend minimale la somme"
   ]
  },
  {
   "cell_type": "markdown",
   "id": "5c8460fe",
   "metadata": {},
   "source": [
    "On doit donc calculer la moyenne et l'écart-type de la température et du rendement, ainsi que la covariance entre ces deux variables. Ensuite, on peut calculer les coefficients a et b de la droite de régression. Ainsi, la droite de régression linéaire est : y = a x + b"
   ]
  },
  {
   "cell_type": "code",
   "execution_count": 19,
   "id": "1bdc8384",
   "metadata": {},
   "outputs": [
    {
     "name": "stdout",
     "output_type": "stream",
     "text": [
      "La droite de régression est y = 0.48x + -2.74\n"
     ]
    }
   ],
   "source": [
    "import numpy as np\n",
    "import matplotlib.pyplot as plt\n",
    "\n",
    "# Données observées\n",
    "x = np.array([100, 110, 120, 130, 140, 150, 160, 170, 180, 190])\n",
    "y = np.array([45, 51, 54, 61, 66, 70, 74, 78, 85, 89])\n",
    "\n",
    "# Droite de régression\n",
    "A = np.vstack([x, np.ones(len(x))]).T\n",
    "a, b = np.linalg.lstsq(A, y, rcond=None)[0]\n",
    "print(\"La droite de régression est y = {:.2f}x + {:.2f}\".format(a, b))"
   ]
  },
  {
   "cell_type": "markdown",
   "id": "9a15c29d",
   "metadata": {},
   "source": [
    "## Pour calculer le coefficient de détermination, on peut utiliser la formule suivante :"
   ]
  },
  {
   "cell_type": "markdown",
   "id": "15bc525b",
   "metadata": {},
   "source": [
    "Le coefficient de détermination, noté R², est une mesure de la qualité de l'ajustement de la droite de régression aux données. Il représente la proportion de la variance totale du rendement qui est expliquée par la variable température. Plus R² est proche de 1, meilleure est l'ajustement.\n",
    "Le coefficient de détermination se calcule comme le carré du coefficient de corrélation entre les deux variables r(X,Y)"
   ]
  },
  {
   "cell_type": "code",
   "execution_count": 20,
   "id": "b75d92a9",
   "metadata": {},
   "outputs": [
    {
     "name": "stdout",
     "output_type": "stream",
     "text": [
      "Le coefficient de détermination est R^2 = 1.00\n"
     ]
    }
   ],
   "source": [
    "# Coefficient de détermination\n",
    "y_pred = a*x + b\n",
    "SS_tot = np.sum((y - np.mean(y))**2)\n",
    "SS_res = np.sum((y - y_pred)**2)\n",
    "R2 = 1 - SS_res/SS_tot\n",
    "print(\"Le coefficient de détermination est R^2 = {:.2f}\".format(R2))"
   ]
  },
  {
   "cell_type": "markdown",
   "id": "a72be386",
   "metadata": {},
   "source": [
    "Cela signifie que 100% de la variance des rendements peut être expliquée par la température de fonctionnement."
   ]
  },
  {
   "cell_type": "markdown",
   "id": "c30752ab",
   "metadata": {},
   "source": [
    "## Pour déterminer la nouvelle droite de régression, on peut utiliser les données modifiées :"
   ]
  },
  {
   "cell_type": "code",
   "execution_count": 22,
   "id": "b6f01e3e",
   "metadata": {},
   "outputs": [
    {
     "name": "stdout",
     "output_type": "stream",
     "text": [
      "La nouvelle droite de régression est y = 0.40x + 10.93\n"
     ]
    }
   ],
   "source": [
    "# Nouvelles données observées\n",
    "x_new = np.array([100, 105, 110, 120, 130, 140, 150, 160, 170, 180, 190])\n",
    "y_new = np.array([45, 70, 51, 54, 61, 66, 70, 74, 78, 85, 89])\n",
    "\n",
    "# Nouvelle droite de régression\n",
    "A_new = np.vstack([x_new, np.ones(len(x_new))]).T\n",
    "a_new, b_new = np.linalg.lstsq(A_new, y_new, rcond=None)[0]\n",
    "print(\"La nouvelle droite de régression est y = {:.2f}x + {:.2f}\".format(a_new, b_new))"
   ]
  },
  {
   "cell_type": "markdown",
   "id": "37efd32c",
   "metadata": {},
   "source": [
    "## Pour comparer les deux situations via le coefficient de détermination, on peut calculer les deux R^2 :"
   ]
  },
  {
   "cell_type": "code",
   "execution_count": 23,
   "id": "d7f475da",
   "metadata": {},
   "outputs": [
    {
     "name": "stdout",
     "output_type": "stream",
     "text": [
      "Le coefficient de détermination pour les données modifiées est R^2 = 0.80\n"
     ]
    }
   ],
   "source": [
    "# Coefficient de détermination pour les données modifiées\n",
    "y_pred_new = a_new*x_new + b_new\n",
    "SS_tot_new = np.sum((y_new - np.mean(y_new))**2)\n",
    "SS_res_new = np.sum((y_new - y_pred_new)**2)\n",
    "R2_new = 1 - SS_res_new/SS_tot_new\n",
    "print(\"Le coefficient de détermination pour les données modifiées est R^2 = {:.2f}\".format(R2_new))"
   ]
  },
  {
   "cell_type": "markdown",
   "id": "ff3a727a",
   "metadata": {},
   "source": [
    "On constate que le coefficient de détermination a diminué, ce qui montre que les deux points écartés avaient une influence sur la qualité de la droite de régression. Cela montre également l'importance de prendre en compte tous les points disponibles pour obtenir une droite de régression fiable."
   ]
  },
  {
   "cell_type": "markdown",
   "id": "57602dc3",
   "metadata": {},
   "source": [
    "# Moi"
   ]
  },
  {
   "cell_type": "code",
   "execution_count": 2,
   "id": "167234b0",
   "metadata": {},
   "outputs": [],
   "source": [
    "import pandas as pd\n",
    "import numpy as np\n",
    "import matplotlib.pyplot as plt"
   ]
  },
  {
   "cell_type": "code",
   "execution_count": 3,
   "id": "4a72c185",
   "metadata": {},
   "outputs": [],
   "source": [
    "data = pd.read_csv(\"matrice.csv\")"
   ]
  },
  {
   "cell_type": "code",
   "execution_count": 4,
   "id": "01d62c8e",
   "metadata": {},
   "outputs": [
    {
     "data": {
      "text/html": [
       "<div>\n",
       "<style scoped>\n",
       "    .dataframe tbody tr th:only-of-type {\n",
       "        vertical-align: middle;\n",
       "    }\n",
       "\n",
       "    .dataframe tbody tr th {\n",
       "        vertical-align: top;\n",
       "    }\n",
       "\n",
       "    .dataframe thead th {\n",
       "        text-align: right;\n",
       "    }\n",
       "</style>\n",
       "<table border=\"1\" class=\"dataframe\">\n",
       "  <thead>\n",
       "    <tr style=\"text-align: right;\">\n",
       "      <th></th>\n",
       "      <th>Température</th>\n",
       "      <th>Rendement</th>\n",
       "    </tr>\n",
       "  </thead>\n",
       "  <tbody>\n",
       "    <tr>\n",
       "      <th>0</th>\n",
       "      <td>100</td>\n",
       "      <td>45</td>\n",
       "    </tr>\n",
       "    <tr>\n",
       "      <th>1</th>\n",
       "      <td>110</td>\n",
       "      <td>51</td>\n",
       "    </tr>\n",
       "    <tr>\n",
       "      <th>2</th>\n",
       "      <td>120</td>\n",
       "      <td>54</td>\n",
       "    </tr>\n",
       "    <tr>\n",
       "      <th>3</th>\n",
       "      <td>130</td>\n",
       "      <td>61</td>\n",
       "    </tr>\n",
       "    <tr>\n",
       "      <th>4</th>\n",
       "      <td>140</td>\n",
       "      <td>66</td>\n",
       "    </tr>\n",
       "    <tr>\n",
       "      <th>5</th>\n",
       "      <td>150</td>\n",
       "      <td>7</td>\n",
       "    </tr>\n",
       "    <tr>\n",
       "      <th>6</th>\n",
       "      <td>160</td>\n",
       "      <td>74</td>\n",
       "    </tr>\n",
       "    <tr>\n",
       "      <th>7</th>\n",
       "      <td>170</td>\n",
       "      <td>78</td>\n",
       "    </tr>\n",
       "    <tr>\n",
       "      <th>8</th>\n",
       "      <td>180</td>\n",
       "      <td>85</td>\n",
       "    </tr>\n",
       "    <tr>\n",
       "      <th>9</th>\n",
       "      <td>190</td>\n",
       "      <td>89</td>\n",
       "    </tr>\n",
       "  </tbody>\n",
       "</table>\n",
       "</div>"
      ],
      "text/plain": [
       "   Température  Rendement\n",
       "0          100         45\n",
       "1          110         51\n",
       "2          120         54\n",
       "3          130         61\n",
       "4          140         66\n",
       "5          150          7\n",
       "6          160         74\n",
       "7          170         78\n",
       "8          180         85\n",
       "9          190         89"
      ]
     },
     "execution_count": 4,
     "metadata": {},
     "output_type": "execute_result"
    }
   ],
   "source": [
    "data"
   ]
  },
  {
   "cell_type": "code",
   "execution_count": 5,
   "id": "278d3554",
   "metadata": {},
   "outputs": [
    {
     "data": {
      "text/plain": [
       "[<matplotlib.lines.Line2D at 0x1f673864280>,\n",
       " <matplotlib.lines.Line2D at 0x1f6738642e0>]"
      ]
     },
     "execution_count": 5,
     "metadata": {},
     "output_type": "execute_result"
    },
    {
     "data": {
      "image/png": "[encoded data removed]",
      "text/plain": [
       "<Figure size 640x480 with 1 Axes>"
      ]
     },
     "metadata": {},
     "output_type": "display_data"
    }
   ],
   "source": [
    "plt.plot(data)"
   ]
  },
  {
   "cell_type": "code",
   "execution_count": 6,
   "id": "492a50d1",
   "metadata": {},
   "outputs": [
    {
     "data": {
      "text/html": [
       "<div>\n",
       "<style scoped>\n",
       "    .dataframe tbody tr th:only-of-type {\n",
       "        vertical-align: middle;\n",
       "    }\n",
       "\n",
       "    .dataframe tbody tr th {\n",
       "        vertical-align: top;\n",
       "    }\n",
       "\n",
       "    .dataframe thead th {\n",
       "        text-align: right;\n",
       "    }\n",
       "</style>\n",
       "<table border=\"1\" class=\"dataframe\">\n",
       "  <thead>\n",
       "    <tr style=\"text-align: right;\">\n",
       "      <th></th>\n",
       "      <th>Température</th>\n",
       "      <th>Rendement</th>\n",
       "    </tr>\n",
       "  </thead>\n",
       "  <tbody>\n",
       "    <tr>\n",
       "      <th>0</th>\n",
       "      <td>100</td>\n",
       "      <td>45</td>\n",
       "    </tr>\n",
       "    <tr>\n",
       "      <th>1</th>\n",
       "      <td>110</td>\n",
       "      <td>51</td>\n",
       "    </tr>\n",
       "    <tr>\n",
       "      <th>2</th>\n",
       "      <td>120</td>\n",
       "      <td>54</td>\n",
       "    </tr>\n",
       "    <tr>\n",
       "      <th>3</th>\n",
       "      <td>130</td>\n",
       "      <td>61</td>\n",
       "    </tr>\n",
       "    <tr>\n",
       "      <th>4</th>\n",
       "      <td>140</td>\n",
       "      <td>66</td>\n",
       "    </tr>\n",
       "  </tbody>\n",
       "</table>\n",
       "</div>"
      ],
      "text/plain": [
       "   Température  Rendement\n",
       "0          100         45\n",
       "1          110         51\n",
       "2          120         54\n",
       "3          130         61\n",
       "4          140         66"
      ]
     },
     "execution_count": 6,
     "metadata": {},
     "output_type": "execute_result"
    }
   ],
   "source": [
    "data.head()"
   ]
  },
  {
   "cell_type": "code",
   "execution_count": 6,
   "id": "b3325de0",
   "metadata": {},
   "outputs": [
    {
     "data": {
      "text/html": [
       "<div>\n",
       "<style scoped>\n",
       "    .dataframe tbody tr th:only-of-type {\n",
       "        vertical-align: middle;\n",
       "    }\n",
       "\n",
       "    .dataframe tbody tr th {\n",
       "        vertical-align: top;\n",
       "    }\n",
       "\n",
       "    .dataframe thead th {\n",
       "        text-align: right;\n",
       "    }\n",
       "</style>\n",
       "<table border=\"1\" class=\"dataframe\">\n",
       "  <thead>\n",
       "    <tr style=\"text-align: right;\">\n",
       "      <th></th>\n",
       "      <th>X</th>\n",
       "      <th>Y</th>\n",
       "    </tr>\n",
       "  </thead>\n",
       "  <tbody>\n",
       "    <tr>\n",
       "      <th>5</th>\n",
       "      <td>150</td>\n",
       "      <td>7</td>\n",
       "    </tr>\n",
       "    <tr>\n",
       "      <th>6</th>\n",
       "      <td>160</td>\n",
       "      <td>74</td>\n",
       "    </tr>\n",
       "    <tr>\n",
       "      <th>7</th>\n",
       "      <td>170</td>\n",
       "      <td>78</td>\n",
       "    </tr>\n",
       "    <tr>\n",
       "      <th>8</th>\n",
       "      <td>180</td>\n",
       "      <td>85</td>\n",
       "    </tr>\n",
       "    <tr>\n",
       "      <th>9</th>\n",
       "      <td>190</td>\n",
       "      <td>89</td>\n",
       "    </tr>\n",
       "  </tbody>\n",
       "</table>\n",
       "</div>"
      ],
      "text/plain": [
       "     X   Y\n",
       "5  150   7\n",
       "6  160  74\n",
       "7  170  78\n",
       "8  180  85\n",
       "9  190  89"
      ]
     },
     "execution_count": 6,
     "metadata": {},
     "output_type": "execute_result"
    }
   ],
   "source": [
    "data.tail()"
   ]
  },
  {
   "cell_type": "code",
   "execution_count": 7,
   "id": "790fc145",
   "metadata": {},
   "outputs": [
    {
     "name": "stdout",
     "output_type": "stream",
     "text": [
      "             Température  Rendement\n",
      "Température     1.000000   0.562271\n",
      "Rendement       0.562271   1.000000\n"
     ]
    }
   ],
   "source": [
    "corr=data.corr()\n",
    "print(corr)"
   ]
  },
  {
   "cell_type": "code",
   "execution_count": 8,
   "id": "f75abcdc",
   "metadata": {},
   "outputs": [],
   "source": [
    "from numpy.linalg import eig\n",
    "[Lamda,A]=eig(corr)"
   ]
  },
  {
   "cell_type": "code",
   "execution_count": 9,
   "id": "ef55cb30",
   "metadata": {},
   "outputs": [
    {
     "name": "stdout",
     "output_type": "stream",
     "text": [
      "[1.56227137 0.43772863]\n"
     ]
    }
   ],
   "source": [
    "print(Lamda)"
   ]
  },
  {
   "cell_type": "code",
   "execution_count": 10,
   "id": "3a741f17",
   "metadata": {},
   "outputs": [
    {
     "name": "stdout",
     "output_type": "stream",
     "text": [
      "1.9999999999999998\n"
     ]
    }
   ],
   "source": [
    "print(sum(Lamda))"
   ]
  },
  {
   "cell_type": "code",
   "execution_count": 11,
   "id": "52f7416c",
   "metadata": {},
   "outputs": [
    {
     "name": "stdout",
     "output_type": "stream",
     "text": [
      "[[ 0.70710678 -0.70710678]\n",
      " [ 0.70710678  0.70710678]]\n"
     ]
    }
   ],
   "source": [
    "print(A)"
   ]
  },
  {
   "cell_type": "code",
   "execution_count": 12,
   "id": "93089177",
   "metadata": {},
   "outputs": [],
   "source": [
    "def pour_inertie(Lamda):\n",
    "    L=[]\n",
    "    n = sum(Lamda)\n",
    "    # 0, fait ,1 par défaut\n",
    "    for i in range(Lamda.shape[0]): \n",
    "            L.append(Lamda[i]/n*100)\n",
    "    return np.array(L)"
   ]
  },
  {
   "cell_type": "code",
   "execution_count": 13,
   "id": "0663f795",
   "metadata": {},
   "outputs": [
    {
     "data": {
      "text/plain": [
       "array([78.11356868, 21.88643132])"
      ]
     },
     "execution_count": 13,
     "metadata": {},
     "output_type": "execute_result"
    }
   ],
   "source": [
    "pour_inertie(Lamda)"
   ]
  },
  {
   "cell_type": "code",
   "execution_count": 14,
   "id": "0d75f4aa",
   "metadata": {},
   "outputs": [
    {
     "data": {
      "text/plain": [
       "100.0"
      ]
     },
     "execution_count": 14,
     "metadata": {},
     "output_type": "execute_result"
    }
   ],
   "source": [
    "sum(pour_inertie(Lamda)[0:2])"
   ]
  },
  {
   "cell_type": "code",
   "execution_count": 15,
   "id": "975f1e50",
   "metadata": {},
   "outputs": [
    {
     "data": {
      "text/plain": [
       "[<matplotlib.lines.Line2D at 0x23a50eb1760>]"
      ]
     },
     "execution_count": 15,
     "metadata": {},
     "output_type": "execute_result"
    },
    {
     "data": {
      "image/png": "[encoded data removed]",
      "text/plain": [
       "<Figure size 640x480 with 1 Axes>"
      ]
     },
     "metadata": {},
     "output_type": "display_data"
    }
   ],
   "source": [
    "plt.plot(Lamda)"
   ]
  },
  {
   "cell_type": "code",
   "execution_count": 16,
   "id": "eb72eb51",
   "metadata": {},
   "outputs": [],
   "source": [
    "data1 = data.corr()"
   ]
  },
  {
   "cell_type": "code",
   "execution_count": 17,
   "id": "4e50f424",
   "metadata": {},
   "outputs": [
    {
     "data": {
      "text/plain": [
       "(2,)"
      ]
     },
     "execution_count": 17,
     "metadata": {},
     "output_type": "execute_result"
    }
   ],
   "source": [
    "Y1=np.dot(data1,A[0].T)\n",
    "Y1.shape "
   ]
  },
  {
   "cell_type": "code",
   "execution_count": 18,
   "id": "d147e4b4",
   "metadata": {},
   "outputs": [],
   "source": [
    "Y=np.dot(data1,A[0:2].T)"
   ]
  },
  {
   "cell_type": "code",
   "execution_count": 19,
   "id": "977b412b",
   "metadata": {},
   "outputs": [
    {
     "data": {
      "text/plain": [
       "(2, 2)"
      ]
     },
     "execution_count": 19,
     "metadata": {},
     "output_type": "execute_result"
    }
   ],
   "source": [
    "Y.shape"
   ]
  },
  {
   "cell_type": "code",
   "execution_count": 20,
   "id": "816b8d65",
   "metadata": {},
   "outputs": [
    {
     "data": {
      "text/plain": [
       "[<matplotlib.lines.Line2D at 0x23a510fc550>]"
      ]
     },
     "execution_count": 20,
     "metadata": {},
     "output_type": "execute_result"
    },
    {
     "data": {
      "image/png": "[encoded data removed]",
      "text/plain": [
       "<Figure size 640x480 with 1 Axes>"
      ]
     },
     "metadata": {},
     "output_type": "display_data"
    }
   ],
   "source": [
    "plt.plot(Y[:,0],Y[:,1],\"+\") # plt.plot(Y[0],Y[1])"
   ]
  },
  {
   "cell_type": "code",
   "execution_count": null,
   "id": "0a45dca9",
   "metadata": {},
   "outputs": [],
   "source": []
  }
 ],
 "metadata": {
  "kernelspec": {
   "display_name": "Python 3 (ipykernel)",
   "language": "python",
   "name": "python3"
  },
  "language_info": {
   "codemirror_mode": {
    "name": "ipython",
    "version": 3
   },
   "file_extension": ".py",
   "mimetype": "text/x-python",
   "name": "python",
   "nbconvert_exporter": "python",
   "pygments_lexer": "ipython3",
   "version": "3.9.13"
  },
  "toc": {
   "base_numbering": 1,
   "nav_menu": {},
   "number_sections": true,
   "sideBar": true,
   "skip_h1_title": false,
   "title_cell": "Table of Contents",
   "title_sidebar": "Contents",
   "toc_cell": false,
   "toc_position": {},
   "toc_section_display": true,
   "toc_window_display": false
  }
 },
 "nbformat": 4,
 "nbformat_minor": 5
}
