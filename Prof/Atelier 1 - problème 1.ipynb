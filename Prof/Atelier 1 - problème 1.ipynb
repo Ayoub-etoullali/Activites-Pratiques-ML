{
 "cells": [
  {
   "cell_type": "markdown",
   "id": "0fb1cbf1",
   "metadata": {},
   "source": [
    "# Importer les données à partir de la bibliothèque seaborn or pandas"
   ]
  },
  {
   "cell_type": "markdown",
   "id": "6120d8fe",
   "metadata": {},
   "source": [
    "Méthode 1 : pandas"
   ]
  },
  {
   "cell_type": "markdown",
   "id": "a2ecb72e",
   "metadata": {},
   "source": [
    "pandas est une bibliothèque Python qui offre des structures de données et des outils pour la manipulation et l'analyse de données. Elle est très utilisée dans le domaine de la science des données, de l'apprentissage automatique et de l'analyse statistique. pandas fournit deux structures de données principales : les objets Series et les objets DataFrame. Les objets Series sont des tableaux à une dimension qui peuvent contenir des données de n'importe quel type (entiers, flottants, chaînes de caractères, etc.), tandis que les objets DataFrame sont des tableaux à deux dimensions (comme des tableaux de feuilles de calcul) qui peuvent contenir plusieurs colonnes de différents types de données. pandas offre également des fonctions pour l'importation et l'exportation de données à partir de divers formats de fichiers, ainsi que pour le nettoyage, la fusion et la manipulation de données."
   ]
  },
  {
   "cell_type": "code",
   "execution_count": 9,
   "id": "9552c0cb",
   "metadata": {},
   "outputs": [
    {
     "data": {
      "text/html": [
       "<div>\n",
       "<style scoped>\n",
       "    .dataframe tbody tr th:only-of-type {\n",
       "        vertical-align: middle;\n",
       "    }\n",
       "\n",
       "    .dataframe tbody tr th {\n",
       "        vertical-align: top;\n",
       "    }\n",
       "\n",
       "    .dataframe thead th {\n",
       "        text-align: right;\n",
       "    }\n",
       "</style>\n",
       "<table border=\"1\" class=\"dataframe\">\n",
       "  <thead>\n",
       "    <tr style=\"text-align: right;\">\n",
       "      <th></th>\n",
       "      <th>sepal.length</th>\n",
       "      <th>sepal.width</th>\n",
       "      <th>petal.length</th>\n",
       "      <th>petal.width</th>\n",
       "      <th>variety</th>\n",
       "    </tr>\n",
       "  </thead>\n",
       "  <tbody>\n",
       "    <tr>\n",
       "      <th>0</th>\n",
       "      <td>5.1</td>\n",
       "      <td>3.5</td>\n",
       "      <td>1.4</td>\n",
       "      <td>0.2</td>\n",
       "      <td>Setosa</td>\n",
       "    </tr>\n",
       "    <tr>\n",
       "      <th>1</th>\n",
       "      <td>4.9</td>\n",
       "      <td>3.0</td>\n",
       "      <td>1.4</td>\n",
       "      <td>0.2</td>\n",
       "      <td>Setosa</td>\n",
       "    </tr>\n",
       "    <tr>\n",
       "      <th>2</th>\n",
       "      <td>4.7</td>\n",
       "      <td>3.2</td>\n",
       "      <td>1.3</td>\n",
       "      <td>0.2</td>\n",
       "      <td>Setosa</td>\n",
       "    </tr>\n",
       "    <tr>\n",
       "      <th>3</th>\n",
       "      <td>4.6</td>\n",
       "      <td>3.1</td>\n",
       "      <td>1.5</td>\n",
       "      <td>0.2</td>\n",
       "      <td>Setosa</td>\n",
       "    </tr>\n",
       "    <tr>\n",
       "      <th>4</th>\n",
       "      <td>5.0</td>\n",
       "      <td>3.6</td>\n",
       "      <td>1.4</td>\n",
       "      <td>0.2</td>\n",
       "      <td>Setosa</td>\n",
       "    </tr>\n",
       "    <tr>\n",
       "      <th>...</th>\n",
       "      <td>...</td>\n",
       "      <td>...</td>\n",
       "      <td>...</td>\n",
       "      <td>...</td>\n",
       "      <td>...</td>\n",
       "    </tr>\n",
       "    <tr>\n",
       "      <th>145</th>\n",
       "      <td>6.7</td>\n",
       "      <td>3.0</td>\n",
       "      <td>5.2</td>\n",
       "      <td>2.3</td>\n",
       "      <td>Virginica</td>\n",
       "    </tr>\n",
       "    <tr>\n",
       "      <th>146</th>\n",
       "      <td>6.3</td>\n",
       "      <td>2.5</td>\n",
       "      <td>5.0</td>\n",
       "      <td>1.9</td>\n",
       "      <td>Virginica</td>\n",
       "    </tr>\n",
       "    <tr>\n",
       "      <th>147</th>\n",
       "      <td>6.5</td>\n",
       "      <td>3.0</td>\n",
       "      <td>5.2</td>\n",
       "      <td>2.0</td>\n",
       "      <td>Virginica</td>\n",
       "    </tr>\n",
       "    <tr>\n",
       "      <th>148</th>\n",
       "      <td>6.2</td>\n",
       "      <td>3.4</td>\n",
       "      <td>5.4</td>\n",
       "      <td>2.3</td>\n",
       "      <td>Virginica</td>\n",
       "    </tr>\n",
       "    <tr>\n",
       "      <th>149</th>\n",
       "      <td>5.9</td>\n",
       "      <td>3.0</td>\n",
       "      <td>5.1</td>\n",
       "      <td>1.8</td>\n",
       "      <td>Virginica</td>\n",
       "    </tr>\n",
       "  </tbody>\n",
       "</table>\n",
       "<p>150 rows × 5 columns</p>\n",
       "</div>"
      ],
      "text/plain": [
       "     sepal.length  sepal.width  petal.length  petal.width    variety\n",
       "0             5.1          3.5           1.4          0.2     Setosa\n",
       "1             4.9          3.0           1.4          0.2     Setosa\n",
       "2             4.7          3.2           1.3          0.2     Setosa\n",
       "3             4.6          3.1           1.5          0.2     Setosa\n",
       "4             5.0          3.6           1.4          0.2     Setosa\n",
       "..            ...          ...           ...          ...        ...\n",
       "145           6.7          3.0           5.2          2.3  Virginica\n",
       "146           6.3          2.5           5.0          1.9  Virginica\n",
       "147           6.5          3.0           5.2          2.0  Virginica\n",
       "148           6.2          3.4           5.4          2.3  Virginica\n",
       "149           5.9          3.0           5.1          1.8  Virginica\n",
       "\n",
       "[150 rows x 5 columns]"
      ]
     },
     "execution_count": 9,
     "metadata": {},
     "output_type": "execute_result"
    }
   ],
   "source": [
    "import pandas as pd\n",
    "iris=pd.read_csv(\"iris.csv\")\n",
    "iris"
   ]
  },
  {
   "cell_type": "code",
   "execution_count": 5,
   "id": "e2e3574b",
   "metadata": {},
   "outputs": [
    {
     "name": "stdout",
     "output_type": "stream",
     "text": [
      "     sepal.length  sepal.width  petal.length  petal.width    variety\n",
      "0             5.1          3.5           1.4          0.2     Setosa\n",
      "1             4.9          3.0           1.4          0.2     Setosa\n",
      "2             4.7          3.2           1.3          0.2     Setosa\n",
      "3             4.6          3.1           1.5          0.2     Setosa\n",
      "4             5.0          3.6           1.4          0.2     Setosa\n",
      "..            ...          ...           ...          ...        ...\n",
      "145           6.7          3.0           5.2          2.3  Virginica\n",
      "146           6.3          2.5           5.0          1.9  Virginica\n",
      "147           6.5          3.0           5.2          2.0  Virginica\n",
      "148           6.2          3.4           5.4          2.3  Virginica\n",
      "149           5.9          3.0           5.1          1.8  Virginica\n",
      "\n",
      "[150 rows x 5 columns]\n"
     ]
    }
   ],
   "source": [
    "print(iris)"
   ]
  },
  {
   "cell_type": "markdown",
   "id": "3535392e",
   "metadata": {},
   "source": [
    "Méthode 2 : seaborn"
   ]
  },
  {
   "cell_type": "code",
   "execution_count": 8,
   "id": "d4e90bdc",
   "metadata": {},
   "outputs": [
    {
     "data": {
      "text/html": [
       "<div>\n",
       "<style scoped>\n",
       "    .dataframe tbody tr th:only-of-type {\n",
       "        vertical-align: middle;\n",
       "    }\n",
       "\n",
       "    .dataframe tbody tr th {\n",
       "        vertical-align: top;\n",
       "    }\n",
       "\n",
       "    .dataframe thead th {\n",
       "        text-align: right;\n",
       "    }\n",
       "</style>\n",
       "<table border=\"1\" class=\"dataframe\">\n",
       "  <thead>\n",
       "    <tr style=\"text-align: right;\">\n",
       "      <th></th>\n",
       "      <th>sepal_length</th>\n",
       "      <th>sepal_width</th>\n",
       "      <th>petal_length</th>\n",
       "      <th>petal_width</th>\n",
       "      <th>species</th>\n",
       "    </tr>\n",
       "  </thead>\n",
       "  <tbody>\n",
       "    <tr>\n",
       "      <th>0</th>\n",
       "      <td>5.1</td>\n",
       "      <td>3.5</td>\n",
       "      <td>1.4</td>\n",
       "      <td>0.2</td>\n",
       "      <td>setosa</td>\n",
       "    </tr>\n",
       "    <tr>\n",
       "      <th>1</th>\n",
       "      <td>4.9</td>\n",
       "      <td>3.0</td>\n",
       "      <td>1.4</td>\n",
       "      <td>0.2</td>\n",
       "      <td>setosa</td>\n",
       "    </tr>\n",
       "    <tr>\n",
       "      <th>2</th>\n",
       "      <td>4.7</td>\n",
       "      <td>3.2</td>\n",
       "      <td>1.3</td>\n",
       "      <td>0.2</td>\n",
       "      <td>setosa</td>\n",
       "    </tr>\n",
       "    <tr>\n",
       "      <th>3</th>\n",
       "      <td>4.6</td>\n",
       "      <td>3.1</td>\n",
       "      <td>1.5</td>\n",
       "      <td>0.2</td>\n",
       "      <td>setosa</td>\n",
       "    </tr>\n",
       "    <tr>\n",
       "      <th>4</th>\n",
       "      <td>5.0</td>\n",
       "      <td>3.6</td>\n",
       "      <td>1.4</td>\n",
       "      <td>0.2</td>\n",
       "      <td>setosa</td>\n",
       "    </tr>\n",
       "    <tr>\n",
       "      <th>...</th>\n",
       "      <td>...</td>\n",
       "      <td>...</td>\n",
       "      <td>...</td>\n",
       "      <td>...</td>\n",
       "      <td>...</td>\n",
       "    </tr>\n",
       "    <tr>\n",
       "      <th>145</th>\n",
       "      <td>6.7</td>\n",
       "      <td>3.0</td>\n",
       "      <td>5.2</td>\n",
       "      <td>2.3</td>\n",
       "      <td>virginica</td>\n",
       "    </tr>\n",
       "    <tr>\n",
       "      <th>146</th>\n",
       "      <td>6.3</td>\n",
       "      <td>2.5</td>\n",
       "      <td>5.0</td>\n",
       "      <td>1.9</td>\n",
       "      <td>virginica</td>\n",
       "    </tr>\n",
       "    <tr>\n",
       "      <th>147</th>\n",
       "      <td>6.5</td>\n",
       "      <td>3.0</td>\n",
       "      <td>5.2</td>\n",
       "      <td>2.0</td>\n",
       "      <td>virginica</td>\n",
       "    </tr>\n",
       "    <tr>\n",
       "      <th>148</th>\n",
       "      <td>6.2</td>\n",
       "      <td>3.4</td>\n",
       "      <td>5.4</td>\n",
       "      <td>2.3</td>\n",
       "      <td>virginica</td>\n",
       "    </tr>\n",
       "    <tr>\n",
       "      <th>149</th>\n",
       "      <td>5.9</td>\n",
       "      <td>3.0</td>\n",
       "      <td>5.1</td>\n",
       "      <td>1.8</td>\n",
       "      <td>virginica</td>\n",
       "    </tr>\n",
       "  </tbody>\n",
       "</table>\n",
       "<p>150 rows × 5 columns</p>\n",
       "</div>"
      ],
      "text/plain": [
       "     sepal_length  sepal_width  petal_length  petal_width    species\n",
       "0             5.1          3.5           1.4          0.2     setosa\n",
       "1             4.9          3.0           1.4          0.2     setosa\n",
       "2             4.7          3.2           1.3          0.2     setosa\n",
       "3             4.6          3.1           1.5          0.2     setosa\n",
       "4             5.0          3.6           1.4          0.2     setosa\n",
       "..            ...          ...           ...          ...        ...\n",
       "145           6.7          3.0           5.2          2.3  virginica\n",
       "146           6.3          2.5           5.0          1.9  virginica\n",
       "147           6.5          3.0           5.2          2.0  virginica\n",
       "148           6.2          3.4           5.4          2.3  virginica\n",
       "149           5.9          3.0           5.1          1.8  virginica\n",
       "\n",
       "[150 rows x 5 columns]"
      ]
     },
     "execution_count": 8,
     "metadata": {},
     "output_type": "execute_result"
    }
   ],
   "source": [
    "import seaborn as sns\n",
    "iris = sns.load_dataset(\"iris\")\n",
    "iris"
   ]
  },
  {
   "cell_type": "markdown",
   "id": "2c9477f7",
   "metadata": {},
   "source": [
    "# Créer une fonction centrer qui centre les données (tester la fonction sur le data)"
   ]
  },
  {
   "cell_type": "markdown",
   "id": "a00770f1",
   "metadata": {},
   "source": [
    "Nous allons créer une fonction centrer qui prend en entrée un tableau et centre chaque colonne (variable) du tableau\n"
   ]
  },
  {
   "cell_type": "code",
   "execution_count": 10,
   "id": "92378d03",
   "metadata": {},
   "outputs": [],
   "source": [
    "def centrer(X):\n",
    "    \"\"\"\n",
    "    Centre les colonnes d'une matrice X\n",
    "    \n",
    "    Args:\n",
    "    X : tableau numpy de dimensions (n,p)\n",
    "    \n",
    "    Returns:\n",
    "    Xc : tableau numpy centré de dimensions (n,p)\n",
    "    \"\"\"\n",
    "    return X - np.mean(X, axis=0)"
   ]
  },
  {
   "cell_type": "markdown",
   "id": "eb5909ea",
   "metadata": {},
   "source": [
    "N.B"
   ]
  },
  {
   "cell_type": "markdown",
   "id": "c6cc5ead",
   "metadata": {},
   "source": [
    "`axis=0` est un paramètre souvent utilisé dans les fonctions de pandas et numpy pour spécifier l'axe des lignes dans une matrice ou un tableau de données. \n",
    "\n",
    "Dans une matrice bidimensionnelle, `axis=0` correspond à l'axe vertical (ou les lignes), tandis que `axis=1` correspond à l'axe horizontal (ou les colonnes). \n",
    "\n",
    "Par exemple, pour calculer la moyenne des valeurs de chaque colonne dans un tableau de données, on utilise `axis=0` : \n",
    "\n",
    "```\n",
    "import numpy as np\n",
    "import pandas as pd\n",
    "\n",
    "# Créer un tableau de données\n",
    "data = np.array([[1, 2, 3], [4, 5, 6], [7, 8, 9]])\n",
    "\n",
    "# Créer un DataFrame pandas\n",
    "df = pd.DataFrame(data, columns=['col1', 'col2', 'col3'])\n",
    "\n",
    "# Calculer la moyenne des valeurs de chaque colonne\n",
    "moyennes_colonnes = df.mean(axis=0)\n",
    "print(moyennes_colonnes)\n",
    "```\n",
    "\n",
    "Dans cet exemple, `axis=0` est utilisé pour spécifier l'axe des lignes dans la fonction `mean()`, ce qui calcule la moyenne des valeurs de chaque colonne."
   ]
  },
  {
   "cell_type": "markdown",
   "id": "765b1bd5",
   "metadata": {},
   "source": [
    "Nous allons tester cette fonction sur le dataset Iris :"
   ]
  },
  {
   "cell_type": "code",
   "execution_count": 12,
   "id": "11a6d4d0",
   "metadata": {},
   "outputs": [
    {
     "name": "stdout",
     "output_type": "stream",
     "text": [
      "   sepal.length  sepal.width  petal.length  petal.width\n",
      "0     -0.743333     0.442667        -2.358    -0.999333\n",
      "1     -0.943333    -0.057333        -2.358    -0.999333\n",
      "2     -1.143333     0.142667        -2.458    -0.999333\n",
      "3     -1.243333     0.042667        -2.258    -0.999333\n",
      "4     -0.843333     0.542667        -2.358    -0.999333\n"
     ]
    }
   ],
   "source": [
    "import numpy as np\n",
    "iris_c = centrer(iris.iloc[:,0:4])\n",
    "print(iris_c.head())"
   ]
  },
  {
   "cell_type": "markdown",
   "id": "3e904cf7",
   "metadata": {},
   "source": [
    "# Créer la fonction réduite qui retourne la matrice des données réduites"
   ]
  },
  {
   "cell_type": "markdown",
   "id": "33c0b9be",
   "metadata": {},
   "source": [
    "Nous allons créer une fonction reduite qui prend en entrée une matrice centrée et renvoie la matrice réduite correspondante"
   ]
  },
  {
   "cell_type": "code",
   "execution_count": 13,
   "id": "e14c4ba7",
   "metadata": {},
   "outputs": [],
   "source": [
    "def reduite(Xc):\n",
    "    \"\"\"\n",
    "    Réduit les colonnes d'une matrice Xc\n",
    "    \n",
    "    Args:\n",
    "    Xc : tableau numpy de dimensions (n,p) centré\n",
    "    \n",
    "    Returns:\n",
    "    Xr : tableau numpy réduit de dimensions (n,p)\n",
    "    \"\"\"\n",
    "    return Xc / np.std(Xc, axis=0)"
   ]
  },
  {
   "cell_type": "markdown",
   "id": "5e3fec9d",
   "metadata": {},
   "source": [
    "Nous allons tester cette fonction sur le dataset Iris :"
   ]
  },
  {
   "cell_type": "code",
   "execution_count": 14,
   "id": "1ec02c18",
   "metadata": {},
   "outputs": [
    {
     "name": "stdout",
     "output_type": "stream",
     "text": [
      "   sepal.length  sepal.width  petal.length  petal.width\n",
      "0     -0.900681     1.019004     -1.340227    -1.315444\n",
      "1     -1.143017    -0.131979     -1.340227    -1.315444\n",
      "2     -1.385353     0.328414     -1.397064    -1.315444\n",
      "3     -1.506521     0.098217     -1.283389    -1.315444\n",
      "4     -1.021849     1.249201     -1.340227    -1.315444\n"
     ]
    }
   ],
   "source": [
    "iris_cr = reduite(iris_c)\n",
    "print(iris_cr.head())"
   ]
  },
  {
   "cell_type": "markdown",
   "id": "68ac9062",
   "metadata": {},
   "source": [
    "# Calculer et interpréter la matrice des corrélations. Quelles sont les variables les plus corrélées ?"
   ]
  },
  {
   "cell_type": "markdown",
   "id": "4af5328a",
   "metadata": {},
   "source": [
    "Nous allons calculer la matrice de corrélation entre les variables du dataset Iris en utilisant la fonction corr() de pandas."
   ]
  },
  {
   "cell_type": "code",
   "execution_count": 15,
   "id": "ce278f57",
   "metadata": {},
   "outputs": [
    {
     "name": "stdout",
     "output_type": "stream",
     "text": [
      "              sepal.length  sepal.width  petal.length  petal.width\n",
      "sepal.length      1.000000    -0.117570      0.871754     0.817941\n",
      "sepal.width      -0.117570     1.000000     -0.428440    -0.366126\n",
      "petal.length      0.871754    -0.428440      1.000000     0.962865\n",
      "petal.width       0.817941    -0.366126      0.962865     1.000000\n"
     ]
    }
   ],
   "source": [
    "R = iris.iloc[:,0:4].corr()\n",
    "print(R)"
   ]
  },
  {
   "cell_type": "markdown",
   "id": "0ea70a83",
   "metadata": {},
   "source": [
    "N.B : iris.iloc[:,0:4] selects all rows and the first four columns of the DataFrame iris"
   ]
  },
  {
   "cell_type": "markdown",
   "id": "6d6b1a39",
   "metadata": {},
   "source": [
    "La matrice de corrélation nous indique les relations linéaires entre les variables. Les variables les plus corrélées sont :\n",
    "\n",
    "petal_length et petal_width (corrélation de 0.96)\n",
    "sepal_length et petal_length (corrélation de 0.87)\n",
    "sepal_length et petal_width (corrélation de 0.82)"
   ]
  },
  {
   "cell_type": "markdown",
   "id": "f5843c43",
   "metadata": {},
   "source": [
    "# Analyser les valeurs propres (np.linalg.eig). Quel est le pourcentage d'inertie expliquée par chaque axe ? Combien d'axes peut-on conserver ?"
   ]
  },
  {
   "cell_type": "markdown",
   "id": "aa718137",
   "metadata": {},
   "source": [
    "Nous allons calculer les valeurs propres et les vecteurs propres de la matrice de corrélation."
   ]
  },
  {
   "cell_type": "code",
   "execution_count": 17,
   "id": "c0fec221",
   "metadata": {},
   "outputs": [
    {
     "name": "stdout",
     "output_type": "stream",
     "text": [
      "Valeurs propres :\n",
      "[2.91849782 0.91403047 0.14675688 0.02071484]\n",
      "\n",
      "Vecteurs propres :\n",
      "[[ 0.52106591 -0.37741762 -0.71956635  0.26128628]\n",
      " [-0.26934744 -0.92329566  0.24438178 -0.12350962]\n",
      " [ 0.5804131  -0.02449161  0.14212637 -0.80144925]\n",
      " [ 0.56485654 -0.06694199  0.63427274  0.52359713]]\n"
     ]
    }
   ],
   "source": [
    "L, C = np.linalg.eig(R)\n",
    "print(\"Valeurs propres :\")\n",
    "print(L)\n",
    "print(\"\\nVecteurs propres :\")\n",
    "print(C)"
   ]
  },
  {
   "cell_type": "markdown",
   "id": "28ca3e2d",
   "metadata": {},
   "source": [
    "Les valeurs propres représentent l'inertie de chaque axe principal. Le pourcentage d'inertie expliquée par chaque axe est donné par le ratio de la valeur propre correspondante sur la somme de toutes les valeurs propres."
   ]
  },
  {
   "cell_type": "code",
   "execution_count": 20,
   "id": "172aefcd",
   "metadata": {},
   "outputs": [
    {
     "name": "stdout",
     "output_type": "stream",
     "text": [
      "Pourcentage d'inertie :\n",
      "[72.96244541 22.85076179  3.66892189  0.51787091]\n"
     ]
    }
   ],
   "source": [
    "pourcentage_inertie = L / np.sum(L) * 100\n",
    "print(\"Pourcentage d'inertie :\")\n",
    "print(pourcentage_inertie)"
   ]
  },
  {
   "cell_type": "markdown",
   "id": "e266c512",
   "metadata": {},
   "source": [
    "Les deux premiers axes principaux expliquent environ 95% de l'inertie totale"
   ]
  },
  {
   "cell_type": "markdown",
   "id": "a5859d33",
   "metadata": {},
   "source": [
    "# Tracer les valeurs propres principaux et les interpréter"
   ]
  },
  {
   "cell_type": "code",
   "execution_count": 25,
   "id": "a602f5be",
   "metadata": {},
   "outputs": [
    {
     "data": {
      "image/png": "[encoded data removed]",
      "text/plain": [
       "<Figure size 640x480 with 1 Axes>"
      ]
     },
     "metadata": {},
     "output_type": "display_data"
    }
   ],
   "source": [
    "import matplotlib.pyplot as plt\n",
    "\n",
    "plt.plot(np.arange(1, 5), L, 'bo-', linewidth=2)\n",
    "plt.title(\"Scree plot\")\n",
    "plt.xlabel(\"Composante principale\")\n",
    "plt.ylabel(\"Valeur propre\")\n",
    "plt.show()"
   ]
  },
  {
   "cell_type": "markdown",
   "id": "8cdf4924",
   "metadata": {},
   "source": [
    "N.B : `np.arange(1, 5)` crée un tableau numpy contenant les entiers allant de 1 (inclus) à 5 (exclus), soit `[1, 2, 3, 4]`."
   ]
  },
  {
   "cell_type": "markdown",
   "id": "6564ebdb",
   "metadata": {},
   "source": [
    "On remarque que les deux premières composantes principales expliquent la majeure partie de la variance des données."
   ]
  },
  {
   "cell_type": "markdown",
   "id": "45727f75",
   "metadata": {},
   "source": [
    "# Quelles sont les composantes principales ? Étudier la représentation des individus sur le premier axe et le second axe. Quels sont les points dont la contribution est la plus grande ? Quelles sont leurs coordonnées ?"
   ]
  },
  {
   "cell_type": "markdown",
   "id": "844dd4f0",
   "metadata": {},
   "source": [
    "Les composantes principales sont les vecteurs propres associés aux deux plus grandes valeurs propres."
   ]
  },
  {
   "cell_type": "code",
   "execution_count": 28,
   "id": "6015093f",
   "metadata": {},
   "outputs": [
    {
     "name": "stdout",
     "output_type": "stream",
     "text": [
      "[[-2.26470281 -0.4800266 ]\n",
      " [-2.08096115  0.67413356]\n",
      " [-2.36422905  0.34190802]\n",
      " [-2.29938422  0.59739451]\n",
      " [-2.38984217 -0.64683538]\n",
      " [-2.07563095 -1.48917752]\n",
      " [-2.44402884 -0.0476442 ]\n",
      " [-2.23284716 -0.22314807]\n",
      " [-2.33464048  1.11532768]\n",
      " [-2.18432817  0.46901356]\n",
      " [-2.1663101  -1.04369065]\n",
      " [-2.32613087 -0.13307834]\n",
      " [-2.2184509   0.72867617]\n",
      " [-2.6331007   0.96150673]\n",
      " [-2.1987406  -1.86005711]\n",
      " [-2.26221453 -2.68628449]\n",
      " [-2.2075877  -1.48360936]\n",
      " [-2.19034951 -0.48883832]\n",
      " [-1.898572   -1.40501879]\n",
      " [-2.34336905 -1.12784938]\n",
      " [-1.914323   -0.40885571]\n",
      " [-2.20701284 -0.92412143]\n",
      " [-2.7743447  -0.45834367]\n",
      " [-1.81866953 -0.08555853]\n",
      " [-2.22716331 -0.13725446]\n",
      " [-1.95184633  0.62561859]\n",
      " [-2.05115137 -0.24216355]\n",
      " [-2.16857717 -0.52714953]\n",
      " [-2.13956345 -0.31321781]\n",
      " [-2.26526149  0.3377319 ]\n",
      " [-2.14012214  0.50454069]\n",
      " [-1.83159477 -0.42369507]\n",
      " [-2.61494794 -1.79357586]\n",
      " [-2.44617739 -2.15072788]\n",
      " [-2.10997488  0.46020184]\n",
      " [-2.2078089   0.2061074 ]\n",
      " [-2.04514621 -0.66155811]\n",
      " [-2.52733191 -0.59229277]\n",
      " [-2.42963258  0.90418004]\n",
      " [-2.16971071 -0.26887896]\n",
      " [-2.28647514 -0.44171539]\n",
      " [-1.85812246  2.33741516]\n",
      " [-2.5536384   0.47910069]\n",
      " [-1.96444768 -0.47232667]\n",
      " [-2.13705901 -1.14222926]\n",
      " [-2.0697443   0.71105273]\n",
      " [-2.38473317 -1.1204297 ]\n",
      " [-2.39437631  0.38624687]\n",
      " [-2.22944655 -0.99795976]\n",
      " [-2.20383344 -0.00921636]\n",
      " [ 1.10178118 -0.86297242]\n",
      " [ 0.73133743 -0.59461473]\n",
      " [ 1.24097932 -0.61629765]\n",
      " [ 0.40748306  1.75440399]\n",
      " [ 1.0754747   0.20842105]\n",
      " [ 0.38868734  0.59328364]\n",
      " [ 0.74652974 -0.77301931]\n",
      " [-0.48732274  1.85242909]\n",
      " [ 0.92790164 -0.03222608]\n",
      " [ 0.01142619  1.03401828]\n",
      " [-0.11019628  2.65407282]\n",
      " [ 0.44069345  0.06329519]\n",
      " [ 0.56210831  1.76472438]\n",
      " [ 0.71956189  0.18622461]\n",
      " [-0.0333547   0.43900321]\n",
      " [ 0.87540719 -0.50906396]\n",
      " [ 0.35025167  0.19631173]\n",
      " [ 0.15881005  0.79209574]\n",
      " [ 1.22509363  1.6222438 ]\n",
      " [ 0.1649179   1.30260923]\n",
      " [ 0.73768265 -0.39657156]\n",
      " [ 0.47628719  0.41732028]\n",
      " [ 1.2341781   0.93332573]\n",
      " [ 0.6328582   0.41638772]\n",
      " [ 0.70266118  0.06341182]\n",
      " [ 0.87427365 -0.25079339]\n",
      " [ 1.25650912  0.07725602]\n",
      " [ 1.35840512 -0.33131168]\n",
      " [ 0.66480037  0.22592785]\n",
      " [-0.04025861  1.05871855]\n",
      " [ 0.13079518  1.56227183]\n",
      " [ 0.02345269  1.57247559]\n",
      " [ 0.24153827  0.77725638]\n",
      " [ 1.06109461  0.63384324]\n",
      " [ 0.22397877  0.28777351]\n",
      " [ 0.42913912 -0.84558224]\n",
      " [ 1.04872805 -0.5220518 ]\n",
      " [ 1.04453138  1.38298872]\n",
      " [ 0.06958832  0.21950333]\n",
      " [ 0.28347724  1.32932464]\n",
      " [ 0.27907778  1.12002852]\n",
      " [ 0.62456979 -0.02492303]\n",
      " [ 0.33653037  0.98840402]\n",
      " [-0.36218338  2.01923787]\n",
      " [ 0.28858624  0.85573032]\n",
      " [ 0.09136066  0.18119213]\n",
      " [ 0.22771687  0.38492008]\n",
      " [ 0.57638829  0.1548736 ]\n",
      " [-0.44766702  1.54379203]\n",
      " [ 0.25673059  0.5988518 ]\n",
      " [ 1.84456887 -0.87042131]\n",
      " [ 1.15788161  0.69886986]\n",
      " [ 2.20526679 -0.56201048]\n",
      " [ 1.44015066  0.04698759]\n",
      " [ 1.86781222 -0.29504482]\n",
      " [ 2.75187334 -0.8004092 ]\n",
      " [ 0.36701769  1.56150289]\n",
      " [ 2.30243944 -0.42006558]\n",
      " [ 2.00668647  0.71143865]\n",
      " [ 2.25977735 -1.92101038]\n",
      " [ 1.36417549 -0.69275645]\n",
      " [ 1.60267867  0.42170045]\n",
      " [ 1.8839007  -0.41924965]\n",
      " [ 1.2601151   1.16226042]\n",
      " [ 1.4676452   0.44227159]\n",
      " [ 1.59007732 -0.67624481]\n",
      " [ 1.47143146 -0.25562182]\n",
      " [ 2.42632899 -2.55666125]\n",
      " [ 3.31069558 -0.01778095]\n",
      " [ 1.26376667  1.70674538]\n",
      " [ 2.0377163  -0.91046741]\n",
      " [ 0.97798073  0.57176432]\n",
      " [ 2.89765149 -0.41364106]\n",
      " [ 1.33323218  0.48181122]\n",
      " [ 1.7007339  -1.01392187]\n",
      " [ 1.95432671 -1.0077776 ]\n",
      " [ 1.17510363  0.31639447]\n",
      " [ 1.02095055 -0.06434603]\n",
      " [ 1.78834992  0.18736121]\n",
      " [ 1.86364755 -0.56229073]\n",
      " [ 2.43595373 -0.25928443]\n",
      " [ 2.30492772 -2.62632347]\n",
      " [ 1.86270322  0.17854949]\n",
      " [ 1.11414774  0.29292262]\n",
      " [ 1.2024733   0.81131527]\n",
      " [ 2.79877045 -0.85680333]\n",
      " [ 1.57625591 -1.06858111]\n",
      " [ 1.3462921  -0.42243061]\n",
      " [ 0.92482492 -0.0172231 ]\n",
      " [ 1.85204505 -0.67612817]\n",
      " [ 2.01481043 -0.61388564]\n",
      " [ 1.90178409 -0.68957549]\n",
      " [ 1.15788161  0.69886986]\n",
      " [ 2.04055823 -0.8675206 ]\n",
      " [ 1.9981471  -1.04916875]\n",
      " [ 1.87050329 -0.38696608]\n",
      " [ 1.56458048  0.89668681]\n",
      " [ 1.5211705  -0.26906914]\n",
      " [ 1.37278779 -1.01125442]\n",
      " [ 0.96065603  0.02433167]]\n"
     ]
    }
   ],
   "source": [
    "CP1 = C[:,0] # représente les poids ou les coefficients des variables dans la première composante principale.\n",
    "CP2 = C[:,1]\n",
    "\n",
    "iris_cp = np.dot(iris_cr, np.vstack((CP1, CP2)).T) \n",
    "print(iris_cp)"
   ]
  },
  {
   "cell_type": "markdown",
   "id": "b9e8e289",
   "metadata": {},
   "source": [
    "N.B :\n",
    "\n",
    "    - La fonction numpy.dot() permet de faire le produit matriciel \n",
    "    \n",
    "    - np.vstack est une fonction NumPy qui permet de créer une matrice en empilant verticalement plusieurs tableaux NumPy de même longueur. \n",
    "    \n",
    "    - np.dot(iris_cr, np.vstack((CP1, CP2)).T) : \n",
    "    Cette expression calcule les coordonnées des individus sur les deux premières composantes principales. \n",
    "         * `iris_cr` est la matrice des données centrées et réduites.\n",
    "         * `np.vstack((CP1, CP2)).T` est la matrice de projection qui contient les vecteurs propres associés aux deux premières valeurs propres de la matrice de corrélation (les deux premières composantes principales). "
   ]
  },
  {
   "cell_type": "markdown",
   "id": "0f26eb2c",
   "metadata": {},
   "source": [
    "On peut ensuite représenter les individus sur le premier et le deuxième axe en utilisant un graphique en nuage de points."
   ]
  },
  {
   "cell_type": "code",
   "execution_count": 32,
   "id": "07fe49f4",
   "metadata": {},
   "outputs": [
    {
     "data": {
      "image/png": "[encoded data removed]",
      "text/plain": [
       "<Figure size 640x480 with 1 Axes>"
      ]
     },
     "metadata": {},
     "output_type": "display_data"
    }
   ],
   "source": [
    "plt.scatter(iris_cp[:,0], iris_cp[:,1])\n",
    "plt.title(\"Représentation des individus sur le premier et le deuxième axe\")\n",
    "plt.xlabel(\"Composante principale 1\")\n",
    "plt.ylabel(\"Composante principale 2\")\n",
    "for i in range(len(iris)):\n",
    "    plt.text(iris_cp[i,0]+0.1, iris_cp[i,1]+0.1, iris.index[i])\n",
    "plt.show()"
   ]
  },
  {
   "cell_type": "markdown",
   "id": "22668441",
   "metadata": {},
   "source": [
    "N.B :\n",
    "    \n",
    "    - plt.scatter(iris_cp[:,0], iris_cp[:,1]) :\n",
    "    La fonction `plt.scatter(x, y)` permet de tracer un nuage de points en 2D où `x` représente les valeurs pour l'axe horizontal et `y` pour l'axe vertical.\n",
    "    \n",
    "    - plt.text(iris_cp[i,0]+0.1, iris_cp[i,1]+0.1, iris.index[i]) :\n",
    "    La fonction plt.text() permet d'ajouter un texte à un emplacement spécifié dans un graphique. Dans le code ci-dessus, elle est utilisée pour ajouter le nom de chaque individu à son emplacement correspondant sur le graphique. Les coordonnées x et y du texte sont spécifiées par iris_cp[i,0]+0.1 et iris_cp[i,1]+0.1, respectivement, ce qui place le texte légèrement au-dessus et à droite du point correspondant à l'individu sur le graphique. iris.index[i] est le nom de l'individu, qui est récupéré à partir de l'index de la DataFrame iris."
   ]
  },
  {
   "cell_type": "markdown",
   "id": "6f9b3132",
   "metadata": {},
   "source": [
    "Les points dont la contribution est la plus grande sont les points les plus éloignés du centre du nuage, c'est-à-dire les points qui ont une variance maximale sur chaque axe. "
   ]
  },
  {
   "cell_type": "markdown",
   "id": "4c216deb",
   "metadata": {},
   "source": [
    "Les coordonnées de ces points peuvent être obtenues en trouvant les valeurs maximales et minimales de chaque composante principale."
   ]
  },
  {
   "cell_type": "markdown",
   "id": "eb27d2bd",
   "metadata": {},
   "source": [
    "# Visualiser les fleurs sur le plan 2D contenant les deux axes principaux"
   ]
  },
  {
   "cell_type": "code",
   "execution_count": 42,
   "id": "d0b304f9",
   "metadata": {},
   "outputs": [
    {
     "data": {
      "image/png": "[encoded data removed]",
      "text/plain": [
       "<Figure size 640x480 with 1 Axes>"
      ]
     },
     "metadata": {},
     "output_type": "display_data"
    }
   ],
   "source": [
    "colors = ['red', 'green', 'blue']\n",
    "iris['species'] = pd.Categorical(iris['variety'])\n",
    "fig, ax = plt.subplots()\n",
    "for i, species in enumerate(iris['species'].cat.categories):\n",
    "    ax.scatter(iris_cp[iris['species'] == species, 0], iris_cp[iris['species'] == species, 1], c=colors[i], label=species)\n",
    "ax.legend()\n",
    "ax.set_title('ACP des données iris')\n",
    "ax.set_xlabel('Composante principale 1')\n",
    "ax.set_ylabel('Composante principale 2')\n",
    "plt.show()"
   ]
  },
  {
   "cell_type": "markdown",
   "id": "5b444268",
   "metadata": {},
   "source": [
    "Voici une explication détaillée de chaque ligne et fonction de ce code :\n",
    "\n",
    "```\n",
    "colors = ['red', 'green', 'blue']\n",
    "```\n",
    "Cette ligne crée une liste de couleurs contenant trois éléments, qui seront utilisés pour colorer les différents groupes de points dans la figure suivante.\n",
    "\n",
    "```\n",
    "iris['species'] = pd.Categorical(iris['species'])\n",
    "```\n",
    "Cette ligne convertit la colonne \"species\" du dataframe iris en une variable catégorielle. Cela permet de manipuler facilement les différentes catégories de la variable \"species\" plus tard.\n",
    "\n",
    "```\n",
    "fig, ax = plt.subplots()\n",
    "```\n",
    "Cette ligne crée une nouvelle figure et un nouvel axe dans la figure.\n",
    "\n",
    "```\n",
    "for i, species in enumerate(iris['species'].cat.categories):\n",
    "```\n",
    "Cette boucle parcourt toutes les catégories de la variable \"species\" et pour chaque catégorie, elle effectue les instructions suivantes :\n",
    "\n",
    "```\n",
    "ax.scatter(iris_cp[iris['species'] == species, 0], iris_cp[iris['species'] == species, 1], c=colors[i], label=species)\n",
    "```\n",
    "Cette ligne trace les points correspondant à la catégorie \"species\" dans le plan principal. Les points sont colorés selon la couleur correspondante dans la liste \"colors\". Les étiquettes \"species\" sont utilisées pour générer une légende.\n",
    "\n",
    "```\n",
    "ax.legend()\n",
    "```\n",
    "Cette ligne ajoute la légende créée précédemment à l'axe.\n",
    "\n",
    "```\n",
    "ax.set_title('ACP des données iris')\n",
    "ax.set_xlabel('Composante principale 1')\n",
    "ax.set_ylabel('Composante principale 2')\n",
    "```\n",
    "Ces lignes définissent le titre et les étiquettes des axes de la figure.\n",
    "\n",
    "```\n",
    "plt.show()\n",
    "```\n",
    "Cette ligne affiche la figure complète."
   ]
  },
  {
   "cell_type": "markdown",
   "id": "734bf5d5",
   "metadata": {},
   "source": [
    "On peut ainsi visualiser les groupes de fleurs sur le plan 2D formé par les deux premières composantes principales. On observe que les fleurs de type Setosa sont clairement séparées des deux autres types, tandis que les fleurs de type Versicolor et Virginica ont des distributions qui se chevauchent plus largement."
   ]
  }
 ],
 "metadata": {
  "kernelspec": {
   "display_name": "Python 3 (ipykernel)",
   "language": "python",
   "name": "python3"
  },
  "language_info": {
   "codemirror_mode": {
    "name": "ipython",
    "version": 3
   },
   "file_extension": ".py",
   "mimetype": "text/x-python",
   "name": "python",
   "nbconvert_exporter": "python",
   "pygments_lexer": "ipython3",
   "version": "3.9.13"
  },
  "toc": {
   "base_numbering": 1,
   "nav_menu": {},
   "number_sections": true,
   "sideBar": true,
   "skip_h1_title": false,
   "title_cell": "Table of Contents",
   "title_sidebar": "Contents",
   "toc_cell": false,
   "toc_position": {},
   "toc_section_display": true,
   "toc_window_display": false
  }
 },
 "nbformat": 4,
 "nbformat_minor": 5
}
