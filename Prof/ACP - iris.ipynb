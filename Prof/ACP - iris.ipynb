{
 "cells": [
  {
   "cell_type": "code",
   "execution_count": 62,
   "id": "35a63688",
   "metadata": {},
   "outputs": [],
   "source": [
    "import pandas as pd\n",
    "import numpy as np\n",
    "import matplotlib.pyplot as plt"
   ]
  },
  {
   "cell_type": "code",
   "execution_count": 63,
   "id": "502790f5",
   "metadata": {},
   "outputs": [],
   "source": [
    "data = pd.read_csv(\"iris.csv\")"
   ]
  },
  {
   "cell_type": "code",
   "execution_count": 64,
   "id": "88fb73c5",
   "metadata": {},
   "outputs": [
    {
     "data": {
      "text/html": [
       "<div>\n",
       "<style scoped>\n",
       "    .dataframe tbody tr th:only-of-type {\n",
       "        vertical-align: middle;\n",
       "    }\n",
       "\n",
       "    .dataframe tbody tr th {\n",
       "        vertical-align: top;\n",
       "    }\n",
       "\n",
       "    .dataframe thead th {\n",
       "        text-align: right;\n",
       "    }\n",
       "</style>\n",
       "<table border=\"1\" class=\"dataframe\">\n",
       "  <thead>\n",
       "    <tr style=\"text-align: right;\">\n",
       "      <th></th>\n",
       "      <th>sepal.length</th>\n",
       "      <th>sepal.width</th>\n",
       "      <th>petal.length</th>\n",
       "      <th>petal.width</th>\n",
       "      <th>variety</th>\n",
       "    </tr>\n",
       "  </thead>\n",
       "  <tbody>\n",
       "    <tr>\n",
       "      <th>145</th>\n",
       "      <td>6.7</td>\n",
       "      <td>3.0</td>\n",
       "      <td>5.2</td>\n",
       "      <td>2.3</td>\n",
       "      <td>Virginica</td>\n",
       "    </tr>\n",
       "    <tr>\n",
       "      <th>146</th>\n",
       "      <td>6.3</td>\n",
       "      <td>2.5</td>\n",
       "      <td>5.0</td>\n",
       "      <td>1.9</td>\n",
       "      <td>Virginica</td>\n",
       "    </tr>\n",
       "    <tr>\n",
       "      <th>147</th>\n",
       "      <td>6.5</td>\n",
       "      <td>3.0</td>\n",
       "      <td>5.2</td>\n",
       "      <td>2.0</td>\n",
       "      <td>Virginica</td>\n",
       "    </tr>\n",
       "    <tr>\n",
       "      <th>148</th>\n",
       "      <td>6.2</td>\n",
       "      <td>3.4</td>\n",
       "      <td>5.4</td>\n",
       "      <td>2.3</td>\n",
       "      <td>Virginica</td>\n",
       "    </tr>\n",
       "    <tr>\n",
       "      <th>149</th>\n",
       "      <td>5.9</td>\n",
       "      <td>3.0</td>\n",
       "      <td>5.1</td>\n",
       "      <td>1.8</td>\n",
       "      <td>Virginica</td>\n",
       "    </tr>\n",
       "  </tbody>\n",
       "</table>\n",
       "</div>"
      ],
      "text/plain": [
       "     sepal.length  sepal.width  petal.length  petal.width    variety\n",
       "145           6.7          3.0           5.2          2.3  Virginica\n",
       "146           6.3          2.5           5.0          1.9  Virginica\n",
       "147           6.5          3.0           5.2          2.0  Virginica\n",
       "148           6.2          3.4           5.4          2.3  Virginica\n",
       "149           5.9          3.0           5.1          1.8  Virginica"
      ]
     },
     "execution_count": 64,
     "metadata": {},
     "output_type": "execute_result"
    }
   ],
   "source": [
    "data.head()\n",
    "data.tail()"
   ]
  },
  {
   "cell_type": "code",
   "execution_count": 65,
   "id": "73138bca",
   "metadata": {},
   "outputs": [
    {
     "name": "stdout",
     "output_type": "stream",
     "text": [
      "              sepal.length  sepal.width  petal.length  petal.width\n",
      "sepal.length      1.000000    -0.117570      0.871754     0.817941\n",
      "sepal.width      -0.117570     1.000000     -0.428440    -0.366126\n",
      "petal.length      0.871754    -0.428440      1.000000     0.962865\n",
      "petal.width       0.817941    -0.366126      0.962865     1.000000\n"
     ]
    }
   ],
   "source": [
    "corr=data.corr()\n",
    "print(corr)"
   ]
  },
  {
   "cell_type": "markdown",
   "id": "0942ff13",
   "metadata": {},
   "source": [
    "# Analyser le R et Interpréter"
   ]
  },
  {
   "cell_type": "code",
   "execution_count": 66,
   "id": "9bcbb4d1",
   "metadata": {},
   "outputs": [],
   "source": [
    "# X1, X3 et X4 est fort corr => générer une droite de dim=1\n",
    "# X1 et X3 sont  fort corr\n",
    "# X2 n'est pas corr avec X1,X2,X3\n",
    "# ACP\n",
    "# Trouver les valeurs propres et les vecteurs propre de la matrice cor3\n",
    "from numpy.linalg import eig\n",
    "[Lamda,A]=eig(corr)"
   ]
  },
  {
   "cell_type": "code",
   "execution_count": 67,
   "id": "a7d36276",
   "metadata": {},
   "outputs": [
    {
     "name": "stdout",
     "output_type": "stream",
     "text": [
      "[2.91849782 0.91403047 0.14675688 0.02071484]\n"
     ]
    }
   ],
   "source": [
    "print(Lamda)"
   ]
  },
  {
   "cell_type": "code",
   "execution_count": 68,
   "id": "454068b8",
   "metadata": {},
   "outputs": [
    {
     "name": "stdout",
     "output_type": "stream",
     "text": [
      "4.0\n"
     ]
    }
   ],
   "source": [
    "print(sum(Lamda))"
   ]
  },
  {
   "cell_type": "code",
   "execution_count": 69,
   "id": "b5806ebe",
   "metadata": {},
   "outputs": [
    {
     "name": "stdout",
     "output_type": "stream",
     "text": [
      "[[ 0.52106591 -0.37741762 -0.71956635  0.26128628]\n",
      " [-0.26934744 -0.92329566  0.24438178 -0.12350962]\n",
      " [ 0.5804131  -0.02449161  0.14212637 -0.80144925]\n",
      " [ 0.56485654 -0.06694199  0.63427274  0.52359713]]\n"
     ]
    }
   ],
   "source": [
    "print(A)"
   ]
  },
  {
   "cell_type": "code",
   "execution_count": 70,
   "id": "40d0d266",
   "metadata": {},
   "outputs": [],
   "source": [
    "def pour_inertie(Lamda):\n",
    "    L=[]\n",
    "    n = sum(Lamda)\n",
    "    # 0, fait ,1 par défaut\n",
    "    for i in range(Lamda.shape[0]): \n",
    "            L.append(Lamda[i]/n*100)\n",
    "    return np.array(L)"
   ]
  },
  {
   "cell_type": "code",
   "execution_count": 71,
   "id": "12948faa",
   "metadata": {},
   "outputs": [
    {
     "data": {
      "text/plain": [
       "array([72.96244541, 22.85076179,  3.66892189,  0.51787091])"
      ]
     },
     "execution_count": 71,
     "metadata": {},
     "output_type": "execute_result"
    }
   ],
   "source": [
    "pour_inertie(Lamda)"
   ]
  },
  {
   "cell_type": "code",
   "execution_count": 72,
   "id": "a48dc217",
   "metadata": {},
   "outputs": [
    {
     "data": {
      "text/plain": [
       "95.81320720000167"
      ]
     },
     "execution_count": 72,
     "metadata": {},
     "output_type": "execute_result"
    }
   ],
   "source": [
    "sum(pour_inertie(Lamda)[0:2])"
   ]
  },
  {
   "cell_type": "code",
   "execution_count": 73,
   "id": "7a610834",
   "metadata": {},
   "outputs": [
    {
     "data": {
      "text/plain": [
       "[<matplotlib.lines.Line2D at 0x16db2581a90>]"
      ]
     },
     "execution_count": 73,
     "metadata": {},
     "output_type": "execute_result"
    },
    {
     "data": {
      "image/png": "[encoded data removed]",
      "text/plain": [
       "<Figure size 640x480 with 1 Axes>"
      ]
     },
     "metadata": {},
     "output_type": "display_data"
    }
   ],
   "source": [
    "plt.plot(Lamda)"
   ]
  },
  {
   "cell_type": "markdown",
   "id": "ec399032",
   "metadata": {},
   "source": [
    "# retrouver les coordonnées des points sur le nouveaux axes"
   ]
  },
  {
   "cell_type": "code",
   "execution_count": 74,
   "id": "0540e657",
   "metadata": {},
   "outputs": [],
   "source": [
    "data1 = data.corr()"
   ]
  },
  {
   "cell_type": "code",
   "execution_count": 81,
   "id": "bfbb78a3",
   "metadata": {},
   "outputs": [
    {
     "data": {
      "text/plain": [
       "(4,)"
      ]
     },
     "execution_count": 81,
     "metadata": {},
     "output_type": "execute_result"
    }
   ],
   "source": [
    "Y1=np.dot(data1,A[0].T)\n",
    "Y1.shape "
   ]
  },
  {
   "cell_type": "code",
   "execution_count": 83,
   "id": "e55bcc99",
   "metadata": {},
   "outputs": [
    {
     "data": {
      "text/plain": [
       "array([[ 0.15187093, -0.04877863],\n",
       "       [-0.22605182, -0.95111142],\n",
       "       [ 0.1479592 ,  0.28623088],\n",
       "       [ 0.13282433,  0.22952928]])"
      ]
     },
     "execution_count": 83,
     "metadata": {},
     "output_type": "execute_result"
    }
   ],
   "source": [
    "Y=np.dot(data1,A[0:2].T)\n",
    "Y"
   ]
  },
  {
   "cell_type": "markdown",
   "id": "b1de885e",
   "metadata": {},
   "source": [
    "# La représentation graphique"
   ]
  },
  {
   "cell_type": "code",
   "execution_count": 77,
   "id": "13d72798",
   "metadata": {},
   "outputs": [
    {
     "data": {
      "text/plain": [
       "(4, 2)"
      ]
     },
     "execution_count": 77,
     "metadata": {},
     "output_type": "execute_result"
    }
   ],
   "source": [
    "Y.shape"
   ]
  },
  {
   "cell_type": "code",
   "execution_count": 96,
   "id": "49ee3c72",
   "metadata": {},
   "outputs": [
    {
     "name": "stdout",
     "output_type": "stream",
     "text": [
      "[[ 0.15187093 -0.04877863]\n",
      " [-0.22605182 -0.95111142]\n",
      " [ 0.1479592   0.28623088]\n",
      " [ 0.13282433  0.22952928]]\n",
      "[ 0.15187093 -0.04877863]\n",
      "[ 0.15187093 -0.22605182  0.1479592   0.13282433]\n"
     ]
    }
   ],
   "source": [
    "print(Y)\n",
    "print(Y[0])\n",
    "print(Y[:,0])"
   ]
  },
  {
   "cell_type": "code",
   "execution_count": 92,
   "id": "60b6486b",
   "metadata": {},
   "outputs": [
    {
     "data": {
      "text/plain": [
       "[<matplotlib.lines.Line2D at 0x16db36f2130>]"
      ]
     },
     "execution_count": 92,
     "metadata": {},
     "output_type": "execute_result"
    },
    {
     "data": {
      "image/png": "[encoded data removed]",
      "text/plain": [
       "<Figure size 640x480 with 1 Axes>"
      ]
     },
     "metadata": {},
     "output_type": "display_data"
    }
   ],
   "source": [
    "plt.plot(Y[:,0],Y[:,1])"
   ]
  },
  {
   "cell_type": "code",
   "execution_count": 93,
   "id": "5e0230c2",
   "metadata": {},
   "outputs": [
    {
     "data": {
      "text/plain": [
       "[<matplotlib.lines.Line2D at 0x16db375c1f0>]"
      ]
     },
     "execution_count": 93,
     "metadata": {},
     "output_type": "execute_result"
    },
    {
     "data": {
      "image/png": "[encoded data removed]",
      "text/plain": [
       "<Figure size 640x480 with 1 Axes>"
      ]
     },
     "metadata": {},
     "output_type": "display_data"
    }
   ],
   "source": [
    "plt.plot(Y[:,0],Y[:,1],\"+\")"
   ]
  }
 ],
 "metadata": {
  "kernelspec": {
   "display_name": "Python 3 (ipykernel)",
   "language": "python",
   "name": "python3"
  },
  "language_info": {
   "codemirror_mode": {
    "name": "ipython",
    "version": 3
   },
   "file_extension": ".py",
   "mimetype": "text/x-python",
   "name": "python",
   "nbconvert_exporter": "python",
   "pygments_lexer": "ipython3",
   "version": "3.9.13"
  },
  "toc": {
   "base_numbering": 1,
   "nav_menu": {},
   "number_sections": true,
   "sideBar": true,
   "skip_h1_title": false,
   "title_cell": "Table of Contents",
   "title_sidebar": "Contents",
   "toc_cell": false,
   "toc_position": {},
   "toc_section_display": true,
   "toc_window_display": false
  }
 },
 "nbformat": 4,
 "nbformat_minor": 5
}
