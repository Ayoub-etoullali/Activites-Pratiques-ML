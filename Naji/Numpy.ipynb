{
 "cells": [
  {
   "cell_type": "markdown",
   "id": "75ce3dd2",
   "metadata": {},
   "source": [
    "# Numpy : calcules Mathématique"
   ]
  },
  {
   "cell_type": "markdown",
   "id": "f050e2e7",
   "metadata": {},
   "source": [
    "scalar : nombre simple\n",
    "\n",
    "vecteur : dimension \n",
    "\n",
    "matrice"
   ]
  },
  {
   "cell_type": "code",
   "execution_count": null,
   "id": "58454612",
   "metadata": {},
   "outputs": [],
   "source": [
    "a=5\n",
    "a # ou print(a)"
   ]
  },
  {
   "cell_type": "code",
   "execution_count": null,
   "id": "bf283ca7",
   "metadata": {},
   "outputs": [],
   "source": [
    "#fonction : peut returner plusieur variable\n",
    "\n",
    "def f(x,y):\n",
    "    som=x+y\n",
    "    diff=x-y\n",
    "    prod=x*y\n",
    "    return som,diff,prod\n",
    "s,d,p=f(5,3)\n",
    "s,d,p"
   ]
  },
  {
   "cell_type": "code",
   "execution_count": null,
   "id": "7abf1e3e",
   "metadata": {},
   "outputs": [],
   "source": [
    "#list, tableau\n",
    "\n",
    "L1=[1,2,3]\n",
    "L2=[4,5,6]\n",
    "L3=L1+L2\n",
    "L3"
   ]
  },
  {
   "cell_type": "code",
   "execution_count": null,
   "id": "a6f74e78",
   "metadata": {},
   "outputs": [],
   "source": [
    "for a,b in zip(L1,L2):\n",
    "    print(a,b)\n",
    "    print(a+b)"
   ]
  },
  {
   "cell_type": "code",
   "execution_count": null,
   "id": "4af21c2a",
   "metadata": {},
   "outputs": [],
   "source": [
    "import numpy as np\n",
    "L4=np.array([1,2])\n",
    "L4"
   ]
  },
  {
   "cell_type": "code",
   "execution_count": null,
   "id": "4fd59435",
   "metadata": {},
   "outputs": [],
   "source": [
    "L5=np.ones(5)\n",
    "L5 #float"
   ]
  },
  {
   "cell_type": "code",
   "execution_count": null,
   "id": "2768e769",
   "metadata": {},
   "outputs": [],
   "source": [
    "L6=np.ones(5,dtype=int)\n",
    "L6"
   ]
  },
  {
   "cell_type": "code",
   "execution_count": null,
   "id": "16e861e7",
   "metadata": {},
   "outputs": [],
   "source": [
    "L7=np.zeros(2)\n",
    "L7"
   ]
  },
  {
   "cell_type": "code",
   "execution_count": null,
   "id": "d7ebe10f",
   "metadata": {},
   "outputs": [],
   "source": [
    "a=np.arange(1,2,0.1) #sans affficher nbr 2\n",
    "a"
   ]
  },
  {
   "cell_type": "code",
   "execution_count": null,
   "id": "293185d8",
   "metadata": {},
   "outputs": [],
   "source": [
    "b=np.linspace(4,2,5) # 4 to 2 in 5 partition\n",
    "b"
   ]
  },
  {
   "cell_type": "code",
   "execution_count": null,
   "id": "0eb824d6",
   "metadata": {},
   "outputs": [],
   "source": [
    "a=np.linspace(8,1,5)\n",
    "a"
   ]
  },
  {
   "cell_type": "code",
   "execution_count": null,
   "id": "65f1fb1f",
   "metadata": {},
   "outputs": [],
   "source": [
    "print(a+b)\n",
    "print(a*b)"
   ]
  },
  {
   "cell_type": "code",
   "execution_count": 31,
   "id": "3e8a0249",
   "metadata": {},
   "outputs": [
    {
     "data": {
      "text/plain": [
       "array([[1, 2],\n",
       "       [3, 4],\n",
       "       [5, 6]])"
      ]
     },
     "execution_count": 31,
     "metadata": {},
     "output_type": "execute_result"
    }
   ],
   "source": [
    "# matrice\n",
    "\n",
    "M1=np.array([[1,2],[3,4],[5,6]])\n",
    "M1"
   ]
  },
  {
   "cell_type": "code",
   "execution_count": 32,
   "id": "328f8a31",
   "metadata": {},
   "outputs": [
    {
     "data": {
      "text/plain": [
       "6"
      ]
     },
     "execution_count": 32,
     "metadata": {},
     "output_type": "execute_result"
    }
   ],
   "source": [
    "M1.size"
   ]
  },
  {
   "cell_type": "code",
   "execution_count": null,
   "id": "a91e1545",
   "metadata": {},
   "outputs": [],
   "source": []
  }
 ],
 "metadata": {
  "kernelspec": {
   "display_name": "Python 3 (ipykernel)",
   "language": "python",
   "name": "python3"
  },
  "language_info": {
   "codemirror_mode": {
    "name": "ipython",
    "version": 3
   },
   "file_extension": ".py",
   "mimetype": "text/x-python",
   "name": "python",
   "nbconvert_exporter": "python",
   "pygments_lexer": "ipython3",
   "version": "3.9.13"
  },
  "toc": {
   "base_numbering": 1,
   "nav_menu": {},
   "number_sections": true,
   "sideBar": true,
   "skip_h1_title": false,
   "title_cell": "Table of Contents",
   "title_sidebar": "Contents",
   "toc_cell": false,
   "toc_position": {},
   "toc_section_display": true,
   "toc_window_display": false
  }
 },
 "nbformat": 4,
 "nbformat_minor": 5
}
